{
 "cells": [
  {
   "cell_type": "markdown",
   "id": "15e7e922-8e57-4a9b-8915-1372ba7fc437",
   "metadata": {},
   "source": [
    "# Regression Homework\n",
    "The goal of this homework is to create a regression model for predicting the car fuel efficiency (column 'fuel_efficiency_mpg').\n",
    "\n",
    "Preparing the dataset\n",
    "Use only the following columns:\n",
    "\n",
    "'engine_displacement',\n",
    "'horsepower',\n",
    "'vehicle_weight',\n",
    "'model_year',\n",
    "'fuel_efficiency_mpg'"
   ]
  },
  {
   "cell_type": "code",
   "execution_count": 525,
   "id": "1244dda3-739f-4cd5-bab2-5ebea2ba242d",
   "metadata": {},
   "outputs": [
    {
     "data": {
      "text/html": [
       "<div>\n",
       "<style scoped>\n",
       "    .dataframe tbody tr th:only-of-type {\n",
       "        vertical-align: middle;\n",
       "    }\n",
       "\n",
       "    .dataframe tbody tr th {\n",
       "        vertical-align: top;\n",
       "    }\n",
       "\n",
       "    .dataframe thead th {\n",
       "        text-align: right;\n",
       "    }\n",
       "</style>\n",
       "<table border=\"1\" class=\"dataframe\">\n",
       "  <thead>\n",
       "    <tr style=\"text-align: right;\">\n",
       "      <th></th>\n",
       "      <th>engine_displacement</th>\n",
       "      <th>num_cylinders</th>\n",
       "      <th>horsepower</th>\n",
       "      <th>vehicle_weight</th>\n",
       "      <th>acceleration</th>\n",
       "      <th>model_year</th>\n",
       "      <th>origin</th>\n",
       "      <th>fuel_type</th>\n",
       "      <th>drivetrain</th>\n",
       "      <th>num_doors</th>\n",
       "      <th>fuel_efficiency_mpg</th>\n",
       "    </tr>\n",
       "  </thead>\n",
       "  <tbody>\n",
       "    <tr>\n",
       "      <th>0</th>\n",
       "      <td>170</td>\n",
       "      <td>3.0</td>\n",
       "      <td>159.0</td>\n",
       "      <td>3413.433759</td>\n",
       "      <td>17.7</td>\n",
       "      <td>2003</td>\n",
       "      <td>Europe</td>\n",
       "      <td>Gasoline</td>\n",
       "      <td>All-wheel drive</td>\n",
       "      <td>0.0</td>\n",
       "      <td>13.231729</td>\n",
       "    </tr>\n",
       "    <tr>\n",
       "      <th>1</th>\n",
       "      <td>130</td>\n",
       "      <td>5.0</td>\n",
       "      <td>97.0</td>\n",
       "      <td>3149.664934</td>\n",
       "      <td>17.8</td>\n",
       "      <td>2007</td>\n",
       "      <td>USA</td>\n",
       "      <td>Gasoline</td>\n",
       "      <td>Front-wheel drive</td>\n",
       "      <td>0.0</td>\n",
       "      <td>13.688217</td>\n",
       "    </tr>\n",
       "    <tr>\n",
       "      <th>2</th>\n",
       "      <td>170</td>\n",
       "      <td>NaN</td>\n",
       "      <td>78.0</td>\n",
       "      <td>3079.038997</td>\n",
       "      <td>15.1</td>\n",
       "      <td>2018</td>\n",
       "      <td>Europe</td>\n",
       "      <td>Gasoline</td>\n",
       "      <td>Front-wheel drive</td>\n",
       "      <td>0.0</td>\n",
       "      <td>14.246341</td>\n",
       "    </tr>\n",
       "    <tr>\n",
       "      <th>3</th>\n",
       "      <td>220</td>\n",
       "      <td>4.0</td>\n",
       "      <td>NaN</td>\n",
       "      <td>2542.392402</td>\n",
       "      <td>20.2</td>\n",
       "      <td>2009</td>\n",
       "      <td>USA</td>\n",
       "      <td>Diesel</td>\n",
       "      <td>All-wheel drive</td>\n",
       "      <td>2.0</td>\n",
       "      <td>16.912736</td>\n",
       "    </tr>\n",
       "    <tr>\n",
       "      <th>4</th>\n",
       "      <td>210</td>\n",
       "      <td>1.0</td>\n",
       "      <td>140.0</td>\n",
       "      <td>3460.870990</td>\n",
       "      <td>14.4</td>\n",
       "      <td>2009</td>\n",
       "      <td>Europe</td>\n",
       "      <td>Gasoline</td>\n",
       "      <td>All-wheel drive</td>\n",
       "      <td>2.0</td>\n",
       "      <td>12.488369</td>\n",
       "    </tr>\n",
       "  </tbody>\n",
       "</table>\n",
       "</div>"
      ],
      "text/plain": [
       "   engine_displacement  num_cylinders  horsepower  vehicle_weight  \\\n",
       "0                  170            3.0       159.0     3413.433759   \n",
       "1                  130            5.0        97.0     3149.664934   \n",
       "2                  170            NaN        78.0     3079.038997   \n",
       "3                  220            4.0         NaN     2542.392402   \n",
       "4                  210            1.0       140.0     3460.870990   \n",
       "\n",
       "   acceleration  model_year  origin fuel_type         drivetrain  num_doors  \\\n",
       "0          17.7        2003  Europe  Gasoline    All-wheel drive        0.0   \n",
       "1          17.8        2007     USA  Gasoline  Front-wheel drive        0.0   \n",
       "2          15.1        2018  Europe  Gasoline  Front-wheel drive        0.0   \n",
       "3          20.2        2009     USA    Diesel    All-wheel drive        2.0   \n",
       "4          14.4        2009  Europe  Gasoline    All-wheel drive        2.0   \n",
       "\n",
       "   fuel_efficiency_mpg  \n",
       "0            13.231729  \n",
       "1            13.688217  \n",
       "2            14.246341  \n",
       "3            16.912736  \n",
       "4            12.488369  "
      ]
     },
     "execution_count": 525,
     "metadata": {},
     "output_type": "execute_result"
    }
   ],
   "source": [
    "import numpy as np;\n",
    "import pandas as pd;\n",
    "df= pd.read_csv(r\"C:\\Users\\Kofi Konadu Opoku\\Desktop\\Koficonda\\car_fuel_efficiency.csv\")\n",
    "df.head()"
   ]
  },
  {
   "cell_type": "code",
   "execution_count": 526,
   "id": "063c75e4-62e5-41ef-90c3-327f5bdc7815",
   "metadata": {},
   "outputs": [
    {
     "data": {
      "text/html": [
       "<div>\n",
       "<style scoped>\n",
       "    .dataframe tbody tr th:only-of-type {\n",
       "        vertical-align: middle;\n",
       "    }\n",
       "\n",
       "    .dataframe tbody tr th {\n",
       "        vertical-align: top;\n",
       "    }\n",
       "\n",
       "    .dataframe thead th {\n",
       "        text-align: right;\n",
       "    }\n",
       "</style>\n",
       "<table border=\"1\" class=\"dataframe\">\n",
       "  <thead>\n",
       "    <tr style=\"text-align: right;\">\n",
       "      <th></th>\n",
       "      <th>engine_displacement</th>\n",
       "      <th>horsepower</th>\n",
       "      <th>vehicle_weight</th>\n",
       "      <th>model_year</th>\n",
       "      <th>fuel_efficiency_mpg</th>\n",
       "    </tr>\n",
       "  </thead>\n",
       "  <tbody>\n",
       "    <tr>\n",
       "      <th>0</th>\n",
       "      <td>170</td>\n",
       "      <td>159.0</td>\n",
       "      <td>3413.433759</td>\n",
       "      <td>2003</td>\n",
       "      <td>13.231729</td>\n",
       "    </tr>\n",
       "    <tr>\n",
       "      <th>1</th>\n",
       "      <td>130</td>\n",
       "      <td>97.0</td>\n",
       "      <td>3149.664934</td>\n",
       "      <td>2007</td>\n",
       "      <td>13.688217</td>\n",
       "    </tr>\n",
       "    <tr>\n",
       "      <th>2</th>\n",
       "      <td>170</td>\n",
       "      <td>78.0</td>\n",
       "      <td>3079.038997</td>\n",
       "      <td>2018</td>\n",
       "      <td>14.246341</td>\n",
       "    </tr>\n",
       "    <tr>\n",
       "      <th>3</th>\n",
       "      <td>220</td>\n",
       "      <td>NaN</td>\n",
       "      <td>2542.392402</td>\n",
       "      <td>2009</td>\n",
       "      <td>16.912736</td>\n",
       "    </tr>\n",
       "    <tr>\n",
       "      <th>4</th>\n",
       "      <td>210</td>\n",
       "      <td>140.0</td>\n",
       "      <td>3460.870990</td>\n",
       "      <td>2009</td>\n",
       "      <td>12.488369</td>\n",
       "    </tr>\n",
       "    <tr>\n",
       "      <th>...</th>\n",
       "      <td>...</td>\n",
       "      <td>...</td>\n",
       "      <td>...</td>\n",
       "      <td>...</td>\n",
       "      <td>...</td>\n",
       "    </tr>\n",
       "    <tr>\n",
       "      <th>9699</th>\n",
       "      <td>140</td>\n",
       "      <td>164.0</td>\n",
       "      <td>2981.107371</td>\n",
       "      <td>2013</td>\n",
       "      <td>15.101802</td>\n",
       "    </tr>\n",
       "    <tr>\n",
       "      <th>9700</th>\n",
       "      <td>180</td>\n",
       "      <td>154.0</td>\n",
       "      <td>2439.525729</td>\n",
       "      <td>2004</td>\n",
       "      <td>17.962326</td>\n",
       "    </tr>\n",
       "    <tr>\n",
       "      <th>9701</th>\n",
       "      <td>220</td>\n",
       "      <td>138.0</td>\n",
       "      <td>2583.471318</td>\n",
       "      <td>2008</td>\n",
       "      <td>17.186587</td>\n",
       "    </tr>\n",
       "    <tr>\n",
       "      <th>9702</th>\n",
       "      <td>230</td>\n",
       "      <td>177.0</td>\n",
       "      <td>2905.527390</td>\n",
       "      <td>2011</td>\n",
       "      <td>15.331551</td>\n",
       "    </tr>\n",
       "    <tr>\n",
       "      <th>9703</th>\n",
       "      <td>270</td>\n",
       "      <td>140.0</td>\n",
       "      <td>2908.043477</td>\n",
       "      <td>2005</td>\n",
       "      <td>14.884467</td>\n",
       "    </tr>\n",
       "  </tbody>\n",
       "</table>\n",
       "<p>9704 rows × 5 columns</p>\n",
       "</div>"
      ],
      "text/plain": [
       "      engine_displacement  horsepower  vehicle_weight  model_year  \\\n",
       "0                     170       159.0     3413.433759        2003   \n",
       "1                     130        97.0     3149.664934        2007   \n",
       "2                     170        78.0     3079.038997        2018   \n",
       "3                     220         NaN     2542.392402        2009   \n",
       "4                     210       140.0     3460.870990        2009   \n",
       "...                   ...         ...             ...         ...   \n",
       "9699                  140       164.0     2981.107371        2013   \n",
       "9700                  180       154.0     2439.525729        2004   \n",
       "9701                  220       138.0     2583.471318        2008   \n",
       "9702                  230       177.0     2905.527390        2011   \n",
       "9703                  270       140.0     2908.043477        2005   \n",
       "\n",
       "      fuel_efficiency_mpg  \n",
       "0               13.231729  \n",
       "1               13.688217  \n",
       "2               14.246341  \n",
       "3               16.912736  \n",
       "4               12.488369  \n",
       "...                   ...  \n",
       "9699            15.101802  \n",
       "9700            17.962326  \n",
       "9701            17.186587  \n",
       "9702            15.331551  \n",
       "9703            14.884467  \n",
       "\n",
       "[9704 rows x 5 columns]"
      ]
     },
     "execution_count": 526,
     "metadata": {},
     "output_type": "execute_result"
    }
   ],
   "source": [
    "df=df[['engine_displacement','horsepower','vehicle_weight','model_year','fuel_efficiency_mpg']]\n",
    "df"
   ]
  },
  {
   "cell_type": "markdown",
   "id": "9c37e429-d52f-412d-9d8b-42972936eaa7",
   "metadata": {},
   "source": [
    "## EDA\n",
    "Look at the fuel_efficiency_mpg variable. Does it have a long tail?\n",
    "**Answer:** After using matplotlib and seaborn to plot fuel_efficiency_mpg **I can deduce it has no tail**\n"
   ]
  },
  {
   "cell_type": "code",
   "execution_count": 527,
   "id": "a2eb5f8e-ae82-4250-8d81-242cf69176b8",
   "metadata": {},
   "outputs": [],
   "source": [
    "import matplotlib.pyplot as plt;\n",
    "import seaborn as sns;\n",
    "%matplotlib inline"
   ]
  },
  {
   "cell_type": "code",
   "execution_count": 528,
   "id": "d49f05f0-4e4c-4df9-b950-204bef65b34e",
   "metadata": {},
   "outputs": [
    {
     "data": {
      "text/plain": [
       "<Axes: xlabel='fuel_efficiency_mpg', ylabel='Count'>"
      ]
     },
     "execution_count": 528,
     "metadata": {},
     "output_type": "execute_result"
    },
    {
     "data": {
      "image/png": "[encoded data removed]",
      "text/plain": [
       "<Figure size 640x480 with 1 Axes>"
      ]
     },
     "metadata": {},
     "output_type": "display_data"
    }
   ],
   "source": [
    "sns.histplot(df['fuel_efficiency_mpg'],bins=50)"
   ]
  },
  {
   "cell_type": "markdown",
   "id": "46707ff2-a2ff-40e7-b574-0f3c13db7872",
   "metadata": {},
   "source": [
    "## Question 1\n",
    "There's one column with missing values. What is it?\n",
    "'engine_displacement'\n",
    "'horsepower'\n",
    "'vehicle_weight'\n",
    "'model_year'\n",
    "\n",
    "---valued\n",
    "**Answer:** horsepower with 708 missing values"
   ]
  },
  {
   "cell_type": "code",
   "execution_count": 529,
   "id": "2c6bd80e-1dd8-406c-9484-5c503bb33887",
   "metadata": {},
   "outputs": [
    {
     "data": {
      "text/plain": [
       "engine_displacement      0\n",
       "horsepower             708\n",
       "vehicle_weight           0\n",
       "model_year               0\n",
       "fuel_efficiency_mpg      0\n",
       "dtype: int64"
      ]
     },
     "execution_count": 529,
     "metadata": {},
     "output_type": "execute_result"
    }
   ],
   "source": [
    "df.isnull().sum()"
   ]
  },
  {
   "cell_type": "markdown",
   "id": "851d1c95-e3e3-4713-9e9c-746320af2d8e",
   "metadata": {},
   "source": [
    "## Question 2\n",
    "What's the median (50% percentile) for variable 'horsepower'?\n",
    "\n",
    "49\n",
    "99\n",
    "149\n",
    "199\n",
    "Prepare and split the dataset\n",
    "Shuffle the dataset (the filtered one you created above), use seed 42.\n",
    "Split your data in train/val/test sets, with 60%/20%/20% distribution.\n",
    "Use the same code as in the lectures\n",
    "\n",
    "**The median value is 149**"
   ]
  },
  {
   "cell_type": "code",
   "execution_count": 530,
   "id": "06077375-92f6-46d6-8c2e-444b5d0ba277",
   "metadata": {},
   "outputs": [
    {
     "data": {
      "text/plain": [
       "149.0"
      ]
     },
     "execution_count": 530,
     "metadata": {},
     "output_type": "execute_result"
    }
   ],
   "source": [
    "# median value\n",
    "df['horsepower'].median()"
   ]
  },
  {
   "cell_type": "code",
   "execution_count": 531,
   "id": "07d0e8a3-39e7-4f34-90b7-1fc18b0ecc2b",
   "metadata": {},
   "outputs": [],
   "source": [
    "# shuffling the dataset\n",
    "idx=np.arange(n)\n",
    "np.random.seed(42)\n",
    "np.random.shuffle(idx)\n",
    "#splitting the dataset\n",
    "n= len(df)\n",
    "train_n= int(0.6 * n)\n",
    "val_n=int(0.2 * n)\n",
    "test_n= int(n-(train_n + val_n))\n",
    "\n",
    "df_train=df.iloc[idx[: train_n]]\n",
    "df_val=df.iloc[idx[train_n: train_n + val_n]]\n",
    "df_test=df.iloc[idx[train_n + val_n:]]\n"
   ]
  },
  {
   "cell_type": "markdown",
   "id": "c7852614-94b6-427c-b9f1-a3c4e472bfcf",
   "metadata": {},
   "source": [
    "Question 3\n",
    "We need to deal with missing values for the column from Q1.\n",
    "We have two options: fill it with 0 or with the mean of this variable.\n",
    "Try both options. For each, train a linear regression model without regularization using the code from the lessons.\n",
    "For computing the mean, use the training only!\n",
    "Use the validation dataset to evaluate the models and compare the RMSE of each option.\n",
    "Round the RMSE scores to 2 decimal digits using round(score, 2)\n",
    "Which option gives better RMSE?\n",
    "Options:\n",
    "\n",
    "With 0\n",
    "With mean\n",
    "Both are equally good"
   ]
  },
  {
   "cell_type": "code",
   "execution_count": 532,
   "id": "a647aa0b-7976-45d9-aa0b-2ea2543c87c6",
   "metadata": {},
   "outputs": [],
   "source": [
    "y_train=df_train.fuel_efficiency_mpg.values\n",
    "y_val=df_val.fuel_efficiency_mpg.values\n",
    "y_test=df_test.fuel_efficiency_mpg.values\n",
    "\n",
    "del df_train['fuel_efficiency_mpg']\n",
    "del df_val['fuel_efficiency_mpg']\n",
    "del df_test['fuel_efficiency_mpg']"
   ]
  },
  {
   "cell_type": "code",
   "execution_count": 533,
   "id": "2f635330-0ff9-41b1-aa29-792d34bf5870",
   "metadata": {},
   "outputs": [],
   "source": [
    "df_train= df_train.fillna(0)\n",
    "df_val= df_val.fillna(0)\n",
    "df_test= df_test.fillna(0)\n",
    "x_train=df_train.values\n",
    "x_val=df_val.values\n",
    "x_test= df_test.values"
   ]
  },
  {
   "cell_type": "code",
   "execution_count": 534,
   "id": "f79ab1fe-5c28-45db-b08b-3cd26d433559",
   "metadata": {},
   "outputs": [],
   "source": [
    "# Matrix\n",
    "def prepare_X(df):\n",
    "    df['Age']= 2023 - df['model_year']\n",
    "    base=['engine_displacement','horsepower' ,'vehicle_weight']\n",
    "    features= base + ['Age']\n",
    "    df_base=df[features].fillna(0)\n",
    "    X= df_base.values\n",
    "    return X\n",
    "\n",
    "\n"
   ]
  },
  {
   "cell_type": "code",
   "execution_count": 535,
   "id": "d78c3306-7acd-43c2-ae61-d753ad6a3870",
   "metadata": {},
   "outputs": [],
   "source": [
    "# train linear regression\n",
    "def train_linear_regression(x,y):\n",
    "    ones= np.ones(x.shape[0])\n",
    "    X=np.column_stack([ones,x])\n",
    "    XTX=X.T.dot(X)\n",
    "    XTX_inv= np.linalg.inv(XTX)\n",
    "    w_full= XTX_inv.dot(X.T).dot(y)\n",
    "    return w_full[0],w_full[1:]"
   ]
  },
  {
   "cell_type": "code",
   "execution_count": 536,
   "id": "32e37514-d64c-459d-b53c-5d4d0e173eca",
   "metadata": {},
   "outputs": [],
   "source": [
    "# RMSE\n",
    "def rmse(y, y_pred):\n",
    "    se= (y-y_pred)**2\n",
    "    mse= se.mean()\n",
    "    rmse=np.sqrt(mse)\n",
    "    return rmse"
   ]
  },
  {
   "cell_type": "code",
   "execution_count": 537,
   "id": "2817710a-fcda-4d0f-8108-89578eaf17fc",
   "metadata": {},
   "outputs": [
    {
     "data": {
      "text/plain": [
       "np.float64(0.5171866956560176)"
      ]
     },
     "execution_count": 537,
     "metadata": {},
     "output_type": "execute_result"
    }
   ],
   "source": [
    "# first rmse\n",
    "x_train= prepare_X(df_train)\n",
    "w0,w=train_linear_regression(x_train,y_train)\n",
    "w0,w\n",
    "\n",
    "x_val= prepare_X(df_val)\n",
    "y_pred= w0 + x_val.dot(w)\n",
    "rmse(y_val, y_pred)"
   ]
  },
  {
   "cell_type": "markdown",
   "id": "7dd93d44-5d0e-4ee0-ac33-3b3780d44349",
   "metadata": {},
   "source": [
    "After using the two options to find the rmse. the option with using the mean to fill the missing value is the better option with an rmse of 0.46"
   ]
  },
  {
   "cell_type": "markdown",
   "id": "b7dc758d-d86b-4320-a363-03f41e48f03c",
   "metadata": {},
   "source": [
    "## question 4\n",
    "Now let's train a regularized linear regression.\n",
    "For this question, fill the NAs with 0.\n",
    "Try different values of r from this list: [0, 0.01, 0.1, 1, 5, 10, 100].\n",
    "Use RMSE to evaluate the model on the validation dataset.\n",
    "Round the RMSE scores to 2 decimal digits.\n",
    "Which r gives the best RMSE?\n",
    "If multiple options give the same best RMSE, select the smallest r.\n",
    "\n",
    "\n",
    "**The best regularization parameter is 0.1**"
   ]
  },
  {
   "cell_type": "code",
   "execution_count": 538,
   "id": "91fa1a2f-7b3d-4c88-bb66-efd350d1705a",
   "metadata": {},
   "outputs": [],
   "source": [
    "def train_linear_regression_reg(x,y,r):\n",
    "    ones= np.ones(x.shape[0])\n",
    "    X=np.column_stack([ones,x])\n",
    "    XTX=X.T.dot(X)\n",
    "    XTX=XTX + r*np.eye(XTX.shape[0])\n",
    "    XTX_inv= np.linalg.inv(XTX)\n",
    "    w_full= XTX_inv.dot(X.T).dot(y)\n",
    "    return w_full[0],w_full[1:]"
   ]
  },
  {
   "cell_type": "code",
   "execution_count": 539,
   "id": "f72ce9fc-1174-46ba-bf97-5f6b6d039853",
   "metadata": {},
   "outputs": [
    {
     "data": {
      "text/plain": [
       "np.float64(0.517183562531252)"
      ]
     },
     "execution_count": 539,
     "metadata": {},
     "output_type": "execute_result"
    }
   ],
   "source": [
    "x_train= prepare_X(df_train)\n",
    "w0,w=train_linear_regression_reg(x_train,y_train,r=0.01)\n",
    "w0,w\n",
    "\n",
    "x_val= prepare_X(df_val)\n",
    "y_pred= w0 + x_val.dot(w)\n",
    "rmse(y_val, y_pred)"
   ]
  },
  {
   "cell_type": "code",
   "execution_count": 540,
   "id": "da3f1de9-e8cd-4a54-9e70-10fdfdacdb57",
   "metadata": {},
   "outputs": [
    {
     "name": "stdout",
     "output_type": "stream",
     "text": [
      "0 0.5171866956560176\n",
      "0.01 0.517183562531252\n",
      "0.1 0.5171711153267267\n",
      "1 0.5185694869483709\n",
      "5 0.5535512372421887\n",
      "10 0.6407571048790393\n",
      "100 2.0590128066179885\n"
     ]
    }
   ],
   "source": [
    "for r in [0, 0.01, 0.1, 1, 5, 10, 100]:\n",
    "    x_train= prepare_X(df_train)\n",
    "    w0,w=train_linear_regression_reg(x_train,y_train,r=r)\n",
    "    w0,w\n",
    "    \n",
    "    x_val= prepare_X(df_val)\n",
    "    y_pred= w0 + x_val.dot(w)\n",
    "    score=rmse(y_val, y_pred)\n",
    "    print(r,score)\n",
    "\n",
    "\n",
    "\n",
    "    "
   ]
  },
  {
   "cell_type": "markdown",
   "id": "fa4e267b-0c40-439e-9d03-76048a71e914",
   "metadata": {},
   "source": [
    "## Question 5\n",
    "We used seed 42 for splitting the data. Let's find out how selecting the seed influences our score.\n",
    "Try different seed values: [0, 1, 2, 3, 4, 5, 6, 7, 8, 9].\n",
    "For each seed, do the train/validation/test split with 60%/20%/20% distribution.\n",
    "Fill the missing values with 0 and train a model without regularization.\n",
    "For each seed, evaluate the model on the validation dataset and collect the RMSE scores.\n",
    "What's the standard deviation of all the scores? To compute the standard deviation, use np.std.\n",
    "Round the result to 3 decimal digits (round(std, 3))\n",
    "What's the value of std?\n",
    "\n",
    "0.001\n",
    "0.006\n",
    "0.060\n",
    "0.600\n",
    "\n",
    "**The nearest standard deviation in the option is 0.006**"
   ]
  },
  {
   "cell_type": "code",
   "execution_count": 541,
   "id": "e6060c66-476e-4dff-a623-fd8a6e14b9d3",
   "metadata": {},
   "outputs": [
    {
     "name": "stdout",
     "output_type": "stream",
     "text": [
      "[np.float64(0.521), np.float64(0.522), np.float64(0.523), np.float64(0.516), np.float64(0.511), np.float64(0.529), np.float64(0.532), np.float64(0.51), np.float64(0.515), np.float64(0.513)]\n",
      "0.007096477999684075\n"
     ]
    }
   ],
   "source": [
    "rmse_scores=[]\n",
    "for seed in [0, 1, 2, 3, 4, 5, 6, 7, 8, 9]:\n",
    "    # shuffling the dataset\n",
    "    idx=np.arange(n)\n",
    "    np.random.seed(seed)\n",
    "    np.random.shuffle(idx)\n",
    "    #splitting the dataset\n",
    "    n= len(df)\n",
    "    train_n= int(0.6 * n)\n",
    "    val_n=int(0.2 * n)\n",
    "    test_n= int(n-(train_n + val_n))\n",
    "    \n",
    "    df_train=df.iloc[idx[: train_n]]\n",
    "    df_val=df.iloc[idx[train_n: train_n + val_n]]\n",
    "    df_test=df.iloc[idx[train_n + val_n:]]\n",
    "\n",
    "\n",
    "    y_train=df_train.fuel_efficiency_mpg.values\n",
    "    y_val=df_val.fuel_efficiency_mpg.values\n",
    "    y_test=df_test.fuel_efficiency_mpg.values\n",
    "    \n",
    "    \n",
    "    df_train= df_train.fillna(0)\n",
    "    df_val= df_val.fillna(0)\n",
    "    df_test= df_test.fillna(0)\n",
    "    x_train=df_train.values\n",
    "    x_val=df_val.values\n",
    "    x_test= df_test.values\n",
    "\n",
    "    x_train= prepare_X(df_train)\n",
    "    w0,w=train_linear_regression(x_train,y_train)\n",
    "    w0,w\n",
    "    \n",
    "    x_val= prepare_X(df_val)\n",
    "    y_pred= w0 + x_val.dot(w)\n",
    "    score=rmse(y_val, y_pred)\n",
    "    score=np.round(score,3)\n",
    "    rmse_scores.append(score)\n",
    "print(rmse_scores)\n",
    "print(np.std(rmse_scores))  \n",
    "            "
   ]
  },
  {
   "cell_type": "markdown",
   "id": "56889d0f-eae3-47ba-8c11-559d0695a981",
   "metadata": {},
   "source": [
    "# Questtion 6\n",
    "Split the dataset like previously, use seed 9.\n",
    "Combine train and validation datasets.\n",
    "Fill the missing values with 0 and train a model with r=0.001.\n",
    "What's the RMSE on the test dataset?\n",
    "\n",
    "**The rmse on the test dataset is 0.515**"
   ]
  },
  {
   "cell_type": "code",
   "execution_count": 543,
   "id": "fadc915b-ee2d-49eb-95d7-02938eab29bb",
   "metadata": {},
   "outputs": [
    {
     "data": {
      "text/plain": [
       "np.float64(0.5153863481284869)"
      ]
     },
     "execution_count": 543,
     "metadata": {},
     "output_type": "execute_result"
    }
   ],
   "source": [
    "idx=np.arange(n)\n",
    "np.random.seed(9)\n",
    "np.random.shuffle(idx)\n",
    "#splitting the dataset\n",
    "n= len(df)\n",
    "train_n= int(0.6 * n)\n",
    "val_n=int(0.2 * n)\n",
    "test_n= int(n-(train_n + val_n))\n",
    "\n",
    "df_train=df.iloc[idx[: train_n]]\n",
    "df_val=df.iloc[idx[train_n: train_n + val_n]]\n",
    "df_test=df.iloc[idx[train_n + val_n:]]\n",
    "\n",
    "\n",
    "y_train=df_train.fuel_efficiency_mpg.values\n",
    "y_val=df_val.fuel_efficiency_mpg.values\n",
    "y_test=df_test.fuel_efficiency_mpg.values\n",
    "\n",
    "\n",
    "df_train= df_train.fillna(0)\n",
    "df_val= df_val.fillna(0)\n",
    "df_test= df_test.fillna(0)\n",
    "x_train=df_train.values\n",
    "x_val=df_val.values\n",
    "x_test= df_test.values\n",
    "\n",
    "df_full_train= pd.concat([df_train,df_val])\n",
    "df_full_train= df_full_train.reset_index(drop=True)\n",
    "y_full_train= np.concatenate([y_train,y_val])\n",
    "x_full_train= prepare_X(df_full_train)\n",
    "\n",
    "w0,w=train_linear_regression_reg(x_full_train,y_full_train,r=0.1)\n",
    "w0,w\n",
    "\n",
    "x_test= prepare_X(df_test)\n",
    "y_pred= w0 + x_test.dot(w)\n",
    "score=rmse(y_test, y_pred)\n",
    "score"
   ]
  },
  {
   "cell_type": "code",
   "execution_count": null,
   "id": "a59c901a-d95c-4f70-9c3c-d97f1cda4b38",
   "metadata": {},
   "outputs": [],
   "source": []
  },
  {
   "cell_type": "code",
   "execution_count": null,
   "id": "be81ad7d-4274-45b1-96f0-9a72115b7c4f",
   "metadata": {},
   "outputs": [],
   "source": []
  },
  {
   "cell_type": "code",
   "execution_count": null,
   "id": "852e82b4-674f-4fbe-a95a-eb7c6eb8b1b7",
   "metadata": {},
   "outputs": [],
   "source": []
  }
 ],
 "metadata": {
  "kernelspec": {
   "display_name": "Python 3 (ipykernel)",
   "language": "python",
   "name": "python3"
  },
  "language_info": {
   "codemirror_mode": {
    "name": "ipython",
    "version": 3
   },
   "file_extension": ".py",
   "mimetype": "text/x-python",
   "name": "python",
   "nbconvert_exporter": "python",
   "pygments_lexer": "ipython3",
   "version": "3.11.13"
  }
 },
 "nbformat": 4,
 "nbformat_minor": 5
}
