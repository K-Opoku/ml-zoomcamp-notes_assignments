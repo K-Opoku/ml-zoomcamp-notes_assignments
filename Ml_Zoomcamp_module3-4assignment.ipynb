{
 "cells": [
  {
   "cell_type": "markdown",
   "id": "4c9c9d72",
   "metadata": {},
   "source": [
    "### Data Preparation and EDA"
   ]
  },
  {
   "cell_type": "code",
   "execution_count": 172,
   "id": "c2b3b5dd",
   "metadata": {
    "ExecuteTime": {
     "end_time": "2025-10-23T02:09:05.164800Z",
     "start_time": "2025-10-23T02:09:05.080245Z"
    }
   },
   "outputs": [
    {
     "data": {
      "text/html": [
       "<div>\n",
       "<style scoped>\n",
       "    .dataframe tbody tr th:only-of-type {\n",
       "        vertical-align: middle;\n",
       "    }\n",
       "\n",
       "    .dataframe tbody tr th {\n",
       "        vertical-align: top;\n",
       "    }\n",
       "\n",
       "    .dataframe thead th {\n",
       "        text-align: right;\n",
       "    }\n",
       "</style>\n",
       "<table border=\"1\" class=\"dataframe\">\n",
       "  <thead>\n",
       "    <tr style=\"text-align: right;\">\n",
       "      <th></th>\n",
       "      <th>lead_source</th>\n",
       "      <th>industry</th>\n",
       "      <th>number_of_courses_viewed</th>\n",
       "      <th>annual_income</th>\n",
       "      <th>employment_status</th>\n",
       "      <th>location</th>\n",
       "      <th>interaction_count</th>\n",
       "      <th>lead_score</th>\n",
       "      <th>converted</th>\n",
       "    </tr>\n",
       "  </thead>\n",
       "  <tbody>\n",
       "    <tr>\n",
       "      <th>0</th>\n",
       "      <td>paid_ads</td>\n",
       "      <td>NaN</td>\n",
       "      <td>1</td>\n",
       "      <td>79450.0</td>\n",
       "      <td>unemployed</td>\n",
       "      <td>south_america</td>\n",
       "      <td>4</td>\n",
       "      <td>0.94</td>\n",
       "      <td>1</td>\n",
       "    </tr>\n",
       "    <tr>\n",
       "      <th>1</th>\n",
       "      <td>social_media</td>\n",
       "      <td>retail</td>\n",
       "      <td>1</td>\n",
       "      <td>46992.0</td>\n",
       "      <td>employed</td>\n",
       "      <td>south_america</td>\n",
       "      <td>1</td>\n",
       "      <td>0.80</td>\n",
       "      <td>0</td>\n",
       "    </tr>\n",
       "    <tr>\n",
       "      <th>2</th>\n",
       "      <td>events</td>\n",
       "      <td>healthcare</td>\n",
       "      <td>5</td>\n",
       "      <td>78796.0</td>\n",
       "      <td>unemployed</td>\n",
       "      <td>australia</td>\n",
       "      <td>3</td>\n",
       "      <td>0.69</td>\n",
       "      <td>1</td>\n",
       "    </tr>\n",
       "    <tr>\n",
       "      <th>3</th>\n",
       "      <td>paid_ads</td>\n",
       "      <td>retail</td>\n",
       "      <td>2</td>\n",
       "      <td>83843.0</td>\n",
       "      <td>NaN</td>\n",
       "      <td>australia</td>\n",
       "      <td>1</td>\n",
       "      <td>0.87</td>\n",
       "      <td>0</td>\n",
       "    </tr>\n",
       "    <tr>\n",
       "      <th>4</th>\n",
       "      <td>referral</td>\n",
       "      <td>education</td>\n",
       "      <td>3</td>\n",
       "      <td>85012.0</td>\n",
       "      <td>self_employed</td>\n",
       "      <td>europe</td>\n",
       "      <td>3</td>\n",
       "      <td>0.62</td>\n",
       "      <td>1</td>\n",
       "    </tr>\n",
       "  </tbody>\n",
       "</table>\n",
       "</div>"
      ],
      "text/plain": [
       "    lead_source    industry  number_of_courses_viewed  annual_income  \\\n",
       "0      paid_ads         NaN                         1        79450.0   \n",
       "1  social_media      retail                         1        46992.0   \n",
       "2        events  healthcare                         5        78796.0   \n",
       "3      paid_ads      retail                         2        83843.0   \n",
       "4      referral   education                         3        85012.0   \n",
       "\n",
       "  employment_status       location  interaction_count  lead_score  converted  \n",
       "0        unemployed  south_america                  4        0.94          1  \n",
       "1          employed  south_america                  1        0.80          0  \n",
       "2        unemployed      australia                  3        0.69          1  \n",
       "3               NaN      australia                  1        0.87          0  \n",
       "4     self_employed         europe                  3        0.62          1  "
      ]
     },
     "execution_count": 172,
     "metadata": {},
     "output_type": "execute_result"
    }
   ],
   "source": [
    "import numpy as np\n",
    "import pandas as pd\n",
    "df=pd.read_csv(r\"C:\\Users\\Kofi Konadu Opoku\\Desktop\\Assignment4&5dataset.csv\")\n",
    "df.head()\n",
    "                                        \n",
    "    "
   ]
  },
  {
   "cell_type": "code",
   "execution_count": 173,
   "id": "251c3542",
   "metadata": {
    "ExecuteTime": {
     "end_time": "2025-10-23T02:09:05.290478Z",
     "start_time": "2025-10-23T02:09:05.268489Z"
    }
   },
   "outputs": [],
   "source": [
    "df.columns=df.columns.str.lower().str.replace(' ','_')\n",
    "strings=df.columns[df.dtypes=='object']\n",
    "for i in strings:\n",
    "    df[i]=df[i].str.lower().replace(' ','_')\n",
    " "
   ]
  },
  {
   "cell_type": "code",
   "execution_count": 174,
   "id": "8eb21adc",
   "metadata": {
    "ExecuteTime": {
     "end_time": "2025-10-23T02:09:05.495564Z",
     "start_time": "2025-10-23T02:09:05.451781Z"
    }
   },
   "outputs": [
    {
     "name": "stdout",
     "output_type": "stream",
     "text": [
      "<class 'pandas.core.frame.DataFrame'>\n",
      "RangeIndex: 1462 entries, 0 to 1461\n",
      "Data columns (total 9 columns):\n",
      " #   Column                    Non-Null Count  Dtype  \n",
      "---  ------                    --------------  -----  \n",
      " 0   lead_source               1334 non-null   object \n",
      " 1   industry                  1328 non-null   object \n",
      " 2   number_of_courses_viewed  1462 non-null   int64  \n",
      " 3   annual_income             1281 non-null   float64\n",
      " 4   employment_status         1362 non-null   object \n",
      " 5   location                  1399 non-null   object \n",
      " 6   interaction_count         1462 non-null   int64  \n",
      " 7   lead_score                1462 non-null   float64\n",
      " 8   converted                 1462 non-null   int64  \n",
      "dtypes: float64(2), int64(3), object(4)\n",
      "memory usage: 102.9+ KB\n"
     ]
    },
    {
     "data": {
      "text/plain": [
       "lead_source                  8.755130\n",
       "industry                     9.165527\n",
       "number_of_courses_viewed     0.000000\n",
       "annual_income               12.380301\n",
       "employment_status            6.839945\n",
       "location                     4.309166\n",
       "interaction_count            0.000000\n",
       "lead_score                   0.000000\n",
       "converted                    0.000000\n",
       "dtype: float64"
      ]
     },
     "execution_count": 174,
     "metadata": {},
     "output_type": "execute_result"
    }
   ],
   "source": [
    "df.isnull().sum()/len(df)*100\n",
    "df.info()\n",
    "df.describe()\n",
    "df.isnull().sum()/len(df)*100\n"
   ]
  },
  {
   "cell_type": "code",
   "execution_count": 175,
   "id": "1109c461",
   "metadata": {
    "ExecuteTime": {
     "end_time": "2025-10-23T02:09:05.651491Z",
     "start_time": "2025-10-23T02:09:05.636824Z"
    }
   },
   "outputs": [
    {
     "data": {
      "text/plain": [
       "np.int64(0)"
      ]
     },
     "execution_count": 175,
     "metadata": {},
     "output_type": "execute_result"
    }
   ],
   "source": [
    "df.duplicated().sum()"
   ]
  },
  {
   "cell_type": "code",
   "execution_count": 176,
   "id": "6b096c70",
   "metadata": {
    "ExecuteTime": {
     "end_time": "2025-10-23T02:09:05.823186Z",
     "start_time": "2025-10-23T02:09:05.816271Z"
    }
   },
   "outputs": [],
   "source": [
    "numerical=['annual_income','number_of_courses_viewed', 'interaction_count','lead_score']\n",
    "categorical=['lead_source', 'industry', 'employment_status', 'location',]\n"
   ]
  },
  {
   "cell_type": "code",
   "execution_count": 177,
   "id": "d93d18c5",
   "metadata": {
    "ExecuteTime": {
     "end_time": "2025-10-23T02:09:06.085820Z",
     "start_time": "2025-10-23T02:09:06.006533Z"
    }
   },
   "outputs": [
    {
     "data": {
      "text/html": [
       "<div>\n",
       "<style scoped>\n",
       "    .dataframe tbody tr th:only-of-type {\n",
       "        vertical-align: middle;\n",
       "    }\n",
       "\n",
       "    .dataframe tbody tr th {\n",
       "        vertical-align: top;\n",
       "    }\n",
       "\n",
       "    .dataframe thead th {\n",
       "        text-align: right;\n",
       "    }\n",
       "</style>\n",
       "<table border=\"1\" class=\"dataframe\">\n",
       "  <thead>\n",
       "    <tr style=\"text-align: right;\">\n",
       "      <th></th>\n",
       "      <th>annual_income</th>\n",
       "      <th>number_of_courses_viewed</th>\n",
       "      <th>interaction_count</th>\n",
       "      <th>lead_score</th>\n",
       "    </tr>\n",
       "  </thead>\n",
       "  <tbody>\n",
       "    <tr>\n",
       "      <th>annual_income</th>\n",
       "      <td>1.000000</td>\n",
       "      <td>0.031551</td>\n",
       "      <td>0.048618</td>\n",
       "      <td>0.005334</td>\n",
       "    </tr>\n",
       "    <tr>\n",
       "      <th>number_of_courses_viewed</th>\n",
       "      <td>0.031551</td>\n",
       "      <td>1.000000</td>\n",
       "      <td>-0.023565</td>\n",
       "      <td>-0.004879</td>\n",
       "    </tr>\n",
       "    <tr>\n",
       "      <th>interaction_count</th>\n",
       "      <td>0.048618</td>\n",
       "      <td>-0.023565</td>\n",
       "      <td>1.000000</td>\n",
       "      <td>0.009888</td>\n",
       "    </tr>\n",
       "    <tr>\n",
       "      <th>lead_score</th>\n",
       "      <td>0.005334</td>\n",
       "      <td>-0.004879</td>\n",
       "      <td>0.009888</td>\n",
       "      <td>1.000000</td>\n",
       "    </tr>\n",
       "  </tbody>\n",
       "</table>\n",
       "</div>"
      ],
      "text/plain": [
       "                          annual_income  number_of_courses_viewed  \\\n",
       "annual_income                  1.000000                  0.031551   \n",
       "number_of_courses_viewed       0.031551                  1.000000   \n",
       "interaction_count              0.048618                 -0.023565   \n",
       "lead_score                     0.005334                 -0.004879   \n",
       "\n",
       "                          interaction_count  lead_score  \n",
       "annual_income                      0.048618    0.005334  \n",
       "number_of_courses_viewed          -0.023565   -0.004879  \n",
       "interaction_count                  1.000000    0.009888  \n",
       "lead_score                         0.009888    1.000000  "
      ]
     },
     "execution_count": 177,
     "metadata": {},
     "output_type": "execute_result"
    }
   ],
   "source": [
    "# checking correlation between numerical features\n",
    "df[numerical].corr()\n",
    "\n"
   ]
  },
  {
   "cell_type": "code",
   "execution_count": 178,
   "id": "69d7dfb5",
   "metadata": {
    "ExecuteTime": {
     "end_time": "2025-10-23T02:09:06.214541Z",
     "start_time": "2025-10-23T02:09:06.194327Z"
    }
   },
   "outputs": [
    {
     "data": {
      "text/plain": [
       "converted\n",
       "1    0.619015\n",
       "0    0.380985\n",
       "Name: proportion, dtype: float64"
      ]
     },
     "execution_count": 178,
     "metadata": {},
     "output_type": "execute_result"
    }
   ],
   "source": [
    "# checking class imbalance\n",
    "df.converted.value_counts(normalize=True)"
   ]
  },
  {
   "cell_type": "markdown",
   "id": "c107ef9b",
   "metadata": {},
   "source": [
    "### Validation Framework"
   ]
  },
  {
   "cell_type": "code",
   "execution_count": 179,
   "id": "ec59873f",
   "metadata": {
    "ExecuteTime": {
     "end_time": "2025-10-23T02:09:06.596401Z",
     "start_time": "2025-10-23T02:09:06.574343Z"
    }
   },
   "outputs": [
    {
     "data": {
      "text/plain": [
       "(876, 293)"
      ]
     },
     "execution_count": 179,
     "metadata": {},
     "output_type": "execute_result"
    }
   ],
   "source": [
    "from sklearn.model_selection import train_test_split\n",
    "df_fulltrain,df_test= train_test_split(df, test_size=0.2,random_state=42)\n",
    "df_train,df_val= train_test_split(df_fulltrain,test_size=0.25,random_state=42)\n",
    "len(df_train),len(df_val)"
   ]
  },
  {
   "cell_type": "code",
   "execution_count": 180,
   "id": "7a444114",
   "metadata": {
    "ExecuteTime": {
     "end_time": "2025-10-23T02:09:06.769049Z",
     "start_time": "2025-10-23T02:09:06.762027Z"
    }
   },
   "outputs": [],
   "source": [
    "y_train= df_train['converted'].values\n",
    "y_val=df_val.converted.values\n",
    "y_test=df_test.converted.values\n"
   ]
  },
  {
   "cell_type": "code",
   "execution_count": 181,
   "id": "87d50bf3",
   "metadata": {
    "ExecuteTime": {
     "end_time": "2025-10-23T02:09:06.958801Z",
     "start_time": "2025-10-23T02:09:06.949248Z"
    }
   },
   "outputs": [],
   "source": [
    "del df_train['converted']\n",
    "del df_val['converted']\n",
    "del df_test['converted']\n",
    "\n"
   ]
  },
  {
   "cell_type": "markdown",
   "id": "c0d62428",
   "metadata": {},
   "source": [
    "### filling missing values"
   ]
  },
  {
   "cell_type": "code",
   "execution_count": 182,
   "id": "e7a09891",
   "metadata": {
    "ExecuteTime": {
     "end_time": "2025-10-23T02:09:07.384442Z",
     "start_time": "2025-10-23T02:09:07.337000Z"
    }
   },
   "outputs": [],
   "source": [
    "# filling numerical columns\n",
    "df_train['annual_income']=df_train['annual_income'].fillna(df_train['annual_income'].mean())\n",
    "df_val['annual_income']=df_val['annual_income'].fillna(df_train['annual_income'].mean())\n",
    "df_test['annual_income']=df_test['annual_income'].fillna(df_train['annual_income'].mean())\n",
    "# filling categorical columns\n",
    "df_train['location']=df_train['location'].fillna(df_train['location'].mode()[0])\n",
    "df_val['location']=df_val['location'].fillna(df_train['location'].mode()[0])\n",
    "df_test['location']=df_test['location'].fillna(df_train['location'].mode()[0])\n",
    "\n",
    "for i in ['lead_source', 'industry', 'employment_status']:\n",
    "    df_train[i]=df_train[i].fillna('unknown')\n",
    "    df_val[i]=df_val[i].fillna('unknown')\n",
    "    df_test[i]=df_test[i].fillna('unknown')\n",
    "\n",
    "# filling the missing values of the fulltrain data set for analysis of features\n",
    "df_fulltrain['annual_income']=df_fulltrain['annual_income'].fillna(df_train['annual_income'].mean())\n",
    "df_fulltrain['location']=df_fulltrain['location'].fillna(df_train['location'].mode()[0])\n",
    "for i in ['lead_source', 'industry', 'employment_status']:\n",
    "    df_fulltrain[i]=df_fulltrain[i].fillna('unknown')\n"
   ]
  },
  {
   "cell_type": "markdown",
   "id": "2d575f65",
   "metadata": {
    "ExecuteTime": {
     "end_time": "2025-10-20T19:41:15.677090Z",
     "start_time": "2025-10-20T19:41:15.651843Z"
    }
   },
   "source": [
    "### checking feature importance and  mutual information.\n"
   ]
  },
  {
   "cell_type": "code",
   "execution_count": 183,
   "id": "27ff5088",
   "metadata": {
    "ExecuteTime": {
     "end_time": "2025-10-23T02:09:07.834749Z",
     "start_time": "2025-10-23T02:09:07.741779Z"
    },
    "code_folding": []
   },
   "outputs": [
    {
     "name": "stdout",
     "output_type": "stream",
     "text": [
      "lead_source\n"
     ]
    },
    {
     "data": {
      "text/html": [
       "<div>\n",
       "<style scoped>\n",
       "    .dataframe tbody tr th:only-of-type {\n",
       "        vertical-align: middle;\n",
       "    }\n",
       "\n",
       "    .dataframe tbody tr th {\n",
       "        vertical-align: top;\n",
       "    }\n",
       "\n",
       "    .dataframe thead th {\n",
       "        text-align: right;\n",
       "    }\n",
       "</style>\n",
       "<table border=\"1\" class=\"dataframe\">\n",
       "  <thead>\n",
       "    <tr style=\"text-align: right;\">\n",
       "      <th></th>\n",
       "      <th>mean</th>\n",
       "      <th>count</th>\n",
       "      <th>diff</th>\n",
       "      <th>risk ratio</th>\n",
       "    </tr>\n",
       "    <tr>\n",
       "      <th>lead_source</th>\n",
       "      <th></th>\n",
       "      <th></th>\n",
       "      <th></th>\n",
       "      <th></th>\n",
       "    </tr>\n",
       "  </thead>\n",
       "  <tbody>\n",
       "    <tr>\n",
       "      <th>events</th>\n",
       "      <td>0.592965</td>\n",
       "      <td>199</td>\n",
       "      <td>-0.014392</td>\n",
       "      <td>0.976304</td>\n",
       "    </tr>\n",
       "    <tr>\n",
       "      <th>organic_search</th>\n",
       "      <td>0.615721</td>\n",
       "      <td>229</td>\n",
       "      <td>0.008364</td>\n",
       "      <td>1.013771</td>\n",
       "    </tr>\n",
       "    <tr>\n",
       "      <th>paid_ads</th>\n",
       "      <td>0.428571</td>\n",
       "      <td>210</td>\n",
       "      <td>-0.178785</td>\n",
       "      <td>0.705634</td>\n",
       "    </tr>\n",
       "    <tr>\n",
       "      <th>referral</th>\n",
       "      <td>0.786408</td>\n",
       "      <td>206</td>\n",
       "      <td>0.179051</td>\n",
       "      <td>1.294804</td>\n",
       "    </tr>\n",
       "    <tr>\n",
       "      <th>social_media</th>\n",
       "      <td>0.583333</td>\n",
       "      <td>216</td>\n",
       "      <td>-0.024023</td>\n",
       "      <td>0.960446</td>\n",
       "    </tr>\n",
       "    <tr>\n",
       "      <th>unknown</th>\n",
       "      <td>0.669725</td>\n",
       "      <td>109</td>\n",
       "      <td>0.062368</td>\n",
       "      <td>1.102688</td>\n",
       "    </tr>\n",
       "  </tbody>\n",
       "</table>\n",
       "</div>"
      ],
      "text/plain": [
       "                    mean  count      diff  risk ratio\n",
       "lead_source                                          \n",
       "events          0.592965    199 -0.014392    0.976304\n",
       "organic_search  0.615721    229  0.008364    1.013771\n",
       "paid_ads        0.428571    210 -0.178785    0.705634\n",
       "referral        0.786408    206  0.179051    1.294804\n",
       "social_media    0.583333    216 -0.024023    0.960446\n",
       "unknown         0.669725    109  0.062368    1.102688"
      ]
     },
     "metadata": {},
     "output_type": "display_data"
    },
    {
     "name": "stdout",
     "output_type": "stream",
     "text": [
      "\n",
      "\n",
      "industry\n"
     ]
    },
    {
     "data": {
      "text/html": [
       "<div>\n",
       "<style scoped>\n",
       "    .dataframe tbody tr th:only-of-type {\n",
       "        vertical-align: middle;\n",
       "    }\n",
       "\n",
       "    .dataframe tbody tr th {\n",
       "        vertical-align: top;\n",
       "    }\n",
       "\n",
       "    .dataframe thead th {\n",
       "        text-align: right;\n",
       "    }\n",
       "</style>\n",
       "<table border=\"1\" class=\"dataframe\">\n",
       "  <thead>\n",
       "    <tr style=\"text-align: right;\">\n",
       "      <th></th>\n",
       "      <th>mean</th>\n",
       "      <th>count</th>\n",
       "      <th>diff</th>\n",
       "      <th>risk ratio</th>\n",
       "    </tr>\n",
       "    <tr>\n",
       "      <th>industry</th>\n",
       "      <th></th>\n",
       "      <th></th>\n",
       "      <th></th>\n",
       "      <th></th>\n",
       "    </tr>\n",
       "  </thead>\n",
       "  <tbody>\n",
       "    <tr>\n",
       "      <th>education</th>\n",
       "      <td>0.790210</td>\n",
       "      <td>143</td>\n",
       "      <td>0.182853</td>\n",
       "      <td>1.301064</td>\n",
       "    </tr>\n",
       "    <tr>\n",
       "      <th>finance</th>\n",
       "      <td>0.556886</td>\n",
       "      <td>167</td>\n",
       "      <td>-0.050470</td>\n",
       "      <td>0.916901</td>\n",
       "    </tr>\n",
       "    <tr>\n",
       "      <th>healthcare</th>\n",
       "      <td>0.593333</td>\n",
       "      <td>150</td>\n",
       "      <td>-0.014023</td>\n",
       "      <td>0.976911</td>\n",
       "    </tr>\n",
       "    <tr>\n",
       "      <th>manufacturing</th>\n",
       "      <td>0.621429</td>\n",
       "      <td>140</td>\n",
       "      <td>0.014072</td>\n",
       "      <td>1.023169</td>\n",
       "    </tr>\n",
       "    <tr>\n",
       "      <th>other</th>\n",
       "      <td>0.612903</td>\n",
       "      <td>155</td>\n",
       "      <td>0.005547</td>\n",
       "      <td>1.009132</td>\n",
       "    </tr>\n",
       "    <tr>\n",
       "      <th>retail</th>\n",
       "      <td>0.566265</td>\n",
       "      <td>166</td>\n",
       "      <td>-0.041092</td>\n",
       "      <td>0.932343</td>\n",
       "    </tr>\n",
       "    <tr>\n",
       "      <th>technology</th>\n",
       "      <td>0.562963</td>\n",
       "      <td>135</td>\n",
       "      <td>-0.044394</td>\n",
       "      <td>0.926907</td>\n",
       "    </tr>\n",
       "    <tr>\n",
       "      <th>unknown</th>\n",
       "      <td>0.557522</td>\n",
       "      <td>113</td>\n",
       "      <td>-0.049835</td>\n",
       "      <td>0.917948</td>\n",
       "    </tr>\n",
       "  </tbody>\n",
       "</table>\n",
       "</div>"
      ],
      "text/plain": [
       "                   mean  count      diff  risk ratio\n",
       "industry                                            \n",
       "education      0.790210    143  0.182853    1.301064\n",
       "finance        0.556886    167 -0.050470    0.916901\n",
       "healthcare     0.593333    150 -0.014023    0.976911\n",
       "manufacturing  0.621429    140  0.014072    1.023169\n",
       "other          0.612903    155  0.005547    1.009132\n",
       "retail         0.566265    166 -0.041092    0.932343\n",
       "technology     0.562963    135 -0.044394    0.926907\n",
       "unknown        0.557522    113 -0.049835    0.917948"
      ]
     },
     "metadata": {},
     "output_type": "display_data"
    },
    {
     "name": "stdout",
     "output_type": "stream",
     "text": [
      "\n",
      "\n",
      "employment_status\n"
     ]
    },
    {
     "data": {
      "text/html": [
       "<div>\n",
       "<style scoped>\n",
       "    .dataframe tbody tr th:only-of-type {\n",
       "        vertical-align: middle;\n",
       "    }\n",
       "\n",
       "    .dataframe tbody tr th {\n",
       "        vertical-align: top;\n",
       "    }\n",
       "\n",
       "    .dataframe thead th {\n",
       "        text-align: right;\n",
       "    }\n",
       "</style>\n",
       "<table border=\"1\" class=\"dataframe\">\n",
       "  <thead>\n",
       "    <tr style=\"text-align: right;\">\n",
       "      <th></th>\n",
       "      <th>mean</th>\n",
       "      <th>count</th>\n",
       "      <th>diff</th>\n",
       "      <th>risk ratio</th>\n",
       "    </tr>\n",
       "    <tr>\n",
       "      <th>employment_status</th>\n",
       "      <th></th>\n",
       "      <th></th>\n",
       "      <th></th>\n",
       "      <th></th>\n",
       "    </tr>\n",
       "  </thead>\n",
       "  <tbody>\n",
       "    <tr>\n",
       "      <th>employed</th>\n",
       "      <td>0.671937</td>\n",
       "      <td>253</td>\n",
       "      <td>0.064580</td>\n",
       "      <td>1.106330</td>\n",
       "    </tr>\n",
       "    <tr>\n",
       "      <th>self_employed</th>\n",
       "      <td>0.635739</td>\n",
       "      <td>291</td>\n",
       "      <td>0.028382</td>\n",
       "      <td>1.046731</td>\n",
       "    </tr>\n",
       "    <tr>\n",
       "      <th>student</th>\n",
       "      <td>0.659722</td>\n",
       "      <td>288</td>\n",
       "      <td>0.052366</td>\n",
       "      <td>1.086219</td>\n",
       "    </tr>\n",
       "    <tr>\n",
       "      <th>unemployed</th>\n",
       "      <td>0.462451</td>\n",
       "      <td>253</td>\n",
       "      <td>-0.144906</td>\n",
       "      <td>0.761415</td>\n",
       "    </tr>\n",
       "    <tr>\n",
       "      <th>unknown</th>\n",
       "      <td>0.571429</td>\n",
       "      <td>84</td>\n",
       "      <td>-0.035928</td>\n",
       "      <td>0.940845</td>\n",
       "    </tr>\n",
       "  </tbody>\n",
       "</table>\n",
       "</div>"
      ],
      "text/plain": [
       "                       mean  count      diff  risk ratio\n",
       "employment_status                                       \n",
       "employed           0.671937    253  0.064580    1.106330\n",
       "self_employed      0.635739    291  0.028382    1.046731\n",
       "student            0.659722    288  0.052366    1.086219\n",
       "unemployed         0.462451    253 -0.144906    0.761415\n",
       "unknown            0.571429     84 -0.035928    0.940845"
      ]
     },
     "metadata": {},
     "output_type": "display_data"
    },
    {
     "name": "stdout",
     "output_type": "stream",
     "text": [
      "\n",
      "\n",
      "location\n"
     ]
    },
    {
     "data": {
      "text/html": [
       "<div>\n",
       "<style scoped>\n",
       "    .dataframe tbody tr th:only-of-type {\n",
       "        vertical-align: middle;\n",
       "    }\n",
       "\n",
       "    .dataframe tbody tr th {\n",
       "        vertical-align: top;\n",
       "    }\n",
       "\n",
       "    .dataframe thead th {\n",
       "        text-align: right;\n",
       "    }\n",
       "</style>\n",
       "<table border=\"1\" class=\"dataframe\">\n",
       "  <thead>\n",
       "    <tr style=\"text-align: right;\">\n",
       "      <th></th>\n",
       "      <th>mean</th>\n",
       "      <th>count</th>\n",
       "      <th>diff</th>\n",
       "      <th>risk ratio</th>\n",
       "    </tr>\n",
       "    <tr>\n",
       "      <th>location</th>\n",
       "      <th></th>\n",
       "      <th></th>\n",
       "      <th></th>\n",
       "      <th></th>\n",
       "    </tr>\n",
       "  </thead>\n",
       "  <tbody>\n",
       "    <tr>\n",
       "      <th>africa</th>\n",
       "      <td>0.592857</td>\n",
       "      <td>140</td>\n",
       "      <td>-0.014500</td>\n",
       "      <td>0.976127</td>\n",
       "    </tr>\n",
       "    <tr>\n",
       "      <th>asia</th>\n",
       "      <td>0.588608</td>\n",
       "      <td>158</td>\n",
       "      <td>-0.018749</td>\n",
       "      <td>0.969130</td>\n",
       "    </tr>\n",
       "    <tr>\n",
       "      <th>australia</th>\n",
       "      <td>0.612903</td>\n",
       "      <td>155</td>\n",
       "      <td>0.005547</td>\n",
       "      <td>1.009132</td>\n",
       "    </tr>\n",
       "    <tr>\n",
       "      <th>europe</th>\n",
       "      <td>0.641176</td>\n",
       "      <td>170</td>\n",
       "      <td>0.033820</td>\n",
       "      <td>1.055684</td>\n",
       "    </tr>\n",
       "    <tr>\n",
       "      <th>middle_east</th>\n",
       "      <td>0.644172</td>\n",
       "      <td>163</td>\n",
       "      <td>0.036815</td>\n",
       "      <td>1.060615</td>\n",
       "    </tr>\n",
       "    <tr>\n",
       "      <th>north_america</th>\n",
       "      <td>0.609649</td>\n",
       "      <td>228</td>\n",
       "      <td>0.002292</td>\n",
       "      <td>1.003774</td>\n",
       "    </tr>\n",
       "    <tr>\n",
       "      <th>south_america</th>\n",
       "      <td>0.554839</td>\n",
       "      <td>155</td>\n",
       "      <td>-0.052518</td>\n",
       "      <td>0.913530</td>\n",
       "    </tr>\n",
       "  </tbody>\n",
       "</table>\n",
       "</div>"
      ],
      "text/plain": [
       "                   mean  count      diff  risk ratio\n",
       "location                                            \n",
       "africa         0.592857    140 -0.014500    0.976127\n",
       "asia           0.588608    158 -0.018749    0.969130\n",
       "australia      0.612903    155  0.005547    1.009132\n",
       "europe         0.641176    170  0.033820    1.055684\n",
       "middle_east    0.644172    163  0.036815    1.060615\n",
       "north_america  0.609649    228  0.002292    1.003774\n",
       "south_america  0.554839    155 -0.052518    0.913530"
      ]
     },
     "metadata": {},
     "output_type": "display_data"
    },
    {
     "name": "stdout",
     "output_type": "stream",
     "text": [
      "\n",
      "\n"
     ]
    }
   ],
   "source": [
    "from IPython.display import display\n",
    "# checking the risk ratio and difference between the features and the target variable\n",
    "global_converted=df_fulltrain['converted'].mean()\n",
    "for c in categorical:\n",
    "    print(c)\n",
    "    df_group= df_fulltrain.groupby(c).converted.agg(['mean','count'])\n",
    "    df_group['diff']=df_group['mean']-global_converted\n",
    "    df_group['risk ratio']=df_group['mean']/global_converted\n",
    "    display(df_group)\n",
    "    print( )\n",
    "    print( )\n"
   ]
  },
  {
   "cell_type": "code",
   "execution_count": 184,
   "id": "86d2b19a",
   "metadata": {
    "ExecuteTime": {
     "end_time": "2025-10-23T02:09:07.968676Z",
     "start_time": "2025-10-23T02:09:07.931727Z"
    }
   },
   "outputs": [
    {
     "data": {
      "text/plain": [
       "lead_source          0.025665\n",
       "industry             0.011685\n",
       "employment_status    0.013258\n",
       "location             0.001672\n",
       "dtype: float64"
      ]
     },
     "execution_count": 184,
     "metadata": {},
     "output_type": "execute_result"
    }
   ],
   "source": [
    "# mutual information\n",
    "from sklearn.metrics import mutual_info_score\n",
    "def mutual_info_scores(series):\n",
    "    return mutual_info_score(series,df_fulltrain['converted'])\n",
    "mi= df_fulltrain[categorical].apply(mutual_info_scores)\n",
    "mi\n"
   ]
  },
  {
   "cell_type": "code",
   "execution_count": 185,
   "id": "922c289a",
   "metadata": {
    "ExecuteTime": {
     "end_time": "2025-10-23T02:09:08.328136Z",
     "start_time": "2025-10-23T02:09:08.306992Z"
    }
   },
   "outputs": [
    {
     "data": {
      "text/plain": [
       "annual_income               0.063921\n",
       "number_of_courses_viewed    0.442068\n",
       "interaction_count           0.378482\n",
       "lead_score                  0.225641\n",
       "dtype: float64"
      ]
     },
     "execution_count": 185,
     "metadata": {},
     "output_type": "execute_result"
    }
   ],
   "source": [
    "df_fulltrain[numerical].corrwith(df_fulltrain.converted)"
   ]
  },
  {
   "cell_type": "markdown",
   "id": "cc44814b",
   "metadata": {},
   "source": [
    "### One hot encoding"
   ]
  },
  {
   "cell_type": "code",
   "execution_count": 186,
   "id": "07155c0f",
   "metadata": {
    "ExecuteTime": {
     "end_time": "2025-10-23T02:09:08.579285Z",
     "start_time": "2025-10-23T02:09:08.501626Z"
    }
   },
   "outputs": [],
   "source": [
    "from sklearn.feature_extraction import DictVectorizer\n",
    "train_dict=df_train[categorical+numerical].to_dict(orient='records')\n",
    "dv=DictVectorizer(sparse=False)\n",
    "x_train=dv.fit_transform(train_dict)\n",
    "\n",
    "val_dict=df_val[categorical+numerical].to_dict(orient='records')\n",
    "x_val=dv.transform(val_dict)\n",
    "\n",
    "test_dict=df_test[categorical+numerical].to_dict(orient='records')\n",
    "x_test=dv.transform(test_dict)\n",
    "\n"
   ]
  },
  {
   "cell_type": "markdown",
   "id": "98b45db1",
   "metadata": {},
   "source": [
    "### Training the model with logistic regression"
   ]
  },
  {
   "cell_type": "code",
   "execution_count": 187,
   "id": "3ca65a83",
   "metadata": {
    "ExecuteTime": {
     "end_time": "2025-10-23T02:09:08.913050Z",
     "start_time": "2025-10-23T02:09:08.898331Z"
    }
   },
   "outputs": [],
   "source": [
    "\n",
    "# I trained it earlier and i had convergence warning so i have to scale it to avoid it\n",
    "\n",
    "from sklearn.preprocessing import StandardScaler\n",
    "scaler= StandardScaler()\n",
    "x_train=scaler.fit_transform(x_train)\n",
    "x_val=scaler.transform(x_val)\n",
    "x_test=scaler.transform(x_test)\n",
    "\n",
    "\n"
   ]
  },
  {
   "cell_type": "markdown",
   "id": "e54b3251",
   "metadata": {},
   "source": [
    "## Question 1: ROC AUC feature importance\n",
    "ROC AUC could also be used to evaluate feature importance of numerical variables.\n",
    "\n",
    "Let's do that\n",
    "\n",
    "For each numerical variable, use it as score (aka prediction) and compute the AUC with the y variable as ground truth.\n",
    "Use the training dataset for that\n",
    "If your AUC is < 0.5, invert this variable by putting \"-\" in front\n",
    "\n",
    "(e.g. -df_train['balance'])\n",
    "\n",
    "AUC can go below 0.5 if the variable is negatively correlated with the target variable. You can change the direction of the correlation by negating this variable - then negative correlation becomes positive.\n",
    "\n",
    "Which numerical variable (among the following 4) has the highest AUC?\n",
    "\n",
    "lead_score\n",
    "number_of_courses_viewed\n",
    "interaction_count\n",
    "annual_income\n",
    "\n",
    "---\n",
    "**The answer to question 1 is number_of_courses_viewed:0.755011**\n"
   ]
  },
  {
   "cell_type": "code",
   "execution_count": 188,
   "id": "993a4b6b",
   "metadata": {
    "ExecuteTime": {
     "end_time": "2025-10-23T02:09:09.655444Z",
     "start_time": "2025-10-23T02:09:09.604239Z"
    }
   },
   "outputs": [
    {
     "name": "stdout",
     "output_type": "stream",
     "text": [
      "annual_income:0.547118\n",
      "number_of_courses_viewed:0.755011\n",
      "interaction_count:0.719617\n",
      "lead_score:0.630443\n"
     ]
    }
   ],
   "source": [
    "from sklearn.metrics import accuracy_score, roc_auc_score,precision_score,precision_recall_curve,recall_score\n",
    "auc_scores={}\n",
    "for i in numerical:\n",
    "    auc=roc_auc_score(y_train,df_train[i])\n",
    "    if auc<0.5:\n",
    "        auc=roc_auc_score(y_train,-df_train[i])\n",
    "    auc_scores[i]=auc\n",
    "    print(f'{i}:{auc:3f}')\n",
    "    "
   ]
  },
  {
   "cell_type": "markdown",
   "id": "817bad13",
   "metadata": {},
   "source": [
    "**The auc (roc_auc_val) of the model trained is 0.92 after validation**"
   ]
  },
  {
   "cell_type": "code",
   "execution_count": 189,
   "id": "010e961c",
   "metadata": {
    "ExecuteTime": {
     "end_time": "2025-10-23T02:09:10.127026Z",
     "start_time": "2025-10-23T02:09:10.084082Z"
    }
   },
   "outputs": [],
   "source": [
    "from sklearn.linear_model import LogisticRegression\n",
    "model= LogisticRegression(solver='liblinear',C=1.0, class_weight='balanced',max_iter=1000)\n",
    "model.fit(x_train,y_train)\n",
    "\n",
    "y_pred_prob=model.predict_proba(x_val)[:,1]\n",
    "y_decision_val=y_pred_prob>=0.5\n",
    "\n",
    "roc_auc_val=roc_auc_score(y_val,y_pred_prob)\n",
    "acc_val=accuracy_score(y_val,y_decision_val)\n",
    "prec_val=precision_score(y_val,y_decision_val)\n",
    "rec_val=recall_score(y_val,y_decision_val)"
   ]
  },
  {
   "cell_type": "markdown",
   "id": "3d3d5b4f",
   "metadata": {
    "ExecuteTime": {
     "end_time": "2025-10-21T01:07:36.362455Z",
     "start_time": "2025-10-21T01:07:36.351658Z"
    }
   },
   "source": [
    "## Question 3: Precision and Recall\n",
    "Now let's compute precision and recall for our model.\n",
    "\n",
    "Evaluate the model on all thresholds from 0.0 to 1.0 with step 0.01\n",
    "For each threshold, compute precision and recall\n",
    "Plot them\n",
    "At which threshold precision and recall curves intersect?\n",
    "\n",
    "0.145\n",
    "0.345\n",
    "0.545\n",
    "0.745"
   ]
  },
  {
   "cell_type": "code",
   "execution_count": 190,
   "id": "76f6a6a1",
   "metadata": {
    "ExecuteTime": {
     "end_time": "2025-10-23T02:09:11.323239Z",
     "start_time": "2025-10-23T02:09:10.556885Z"
    }
   },
   "outputs": [],
   "source": [
    "thresholds=np.arange(0,1.01,0.01)\n",
    "precision_scores=[]\n",
    "recall_scores=[]\n",
    "\n",
    "for i in thresholds:\n",
    "    y_decision_val=y_pred_prob>=i\n",
    "\n",
    "    precision= precision_score(y_val,y_decision_val,zero_division=0)\n",
    "    recall=recall_score(y_val,y_decision_val)\n",
    "    precision_scores.append(precision)\n",
    "    recall_scores.append(recall)\n"
   ]
  },
  {
   "cell_type": "code",
   "execution_count": 191,
   "id": "85785527",
   "metadata": {
    "ExecuteTime": {
     "end_time": "2025-10-23T02:09:11.755672Z",
     "start_time": "2025-10-23T02:09:11.345518Z"
    }
   },
   "outputs": [
    {
     "data": {
      "image/png": "[encoded data removed]",
      "text/plain": [
       "<Figure size 640x480 with 1 Axes>"
      ]
     },
     "metadata": {},
     "output_type": "display_data"
    }
   ],
   "source": [
    "import matplotlib.pyplot as plt\n",
    "import seaborn as sns\n",
    "%matplotlib inline\n",
    "\n",
    "plt.plot(thresholds, precision_scores, label='Precision')\n",
    "plt.plot(thresholds, recall_scores, label='Recall')\n",
    "\n",
    "plt.xlabel('Threshold')\n",
    "plt.ylabel('Score')\n",
    "plt.title('Precision and Recall vs Threshold')\n",
    "plt.legend()\n",
    "plt.grid(True)\n",
    "plt.show()"
   ]
  },
  {
   "cell_type": "markdown",
   "id": "a8e65e36",
   "metadata": {
    "ExecuteTime": {
     "end_time": "2025-10-21T02:37:53.349680Z",
     "start_time": "2025-10-21T02:37:53.271613Z"
    }
   },
   "source": [
    "## Question 4: F1 score\n",
    "Precision and recall are conflicting - when one grows, the other goes down. That's why they are often combined into the F1 score - a metrics that takes into account both\n",
    "\n",
    "\n",
    "\n",
    "\n",
    "\n",
    "Where \n",
    "P\n",
    " is precision and \n",
    "R\n",
    " is recall.\n",
    "\n",
    "Let's compute F1 for all thresholds from 0.0 to 1.0 with increment 0.01\n",
    "\n",
    "At which threshold F1 is maximal?\n",
    "\n",
    "0.14\n",
    "0.34\n",
    "0.54\n",
    "0.74\n",
    "\n",
    "**The answer is 0.34**"
   ]
  },
  {
   "cell_type": "code",
   "execution_count": 192,
   "id": "5a4e9765",
   "metadata": {
    "ExecuteTime": {
     "end_time": "2025-10-23T02:09:12.428840Z",
     "start_time": "2025-10-23T02:09:11.757186Z"
    }
   },
   "outputs": [
    {
     "data": {
      "text/plain": [
       "{np.float64(0.0): 0.71,\n",
       " np.float64(0.01): 0.75,\n",
       " np.float64(0.02): 0.76,\n",
       " np.float64(0.03): 0.78,\n",
       " np.float64(0.04): 0.79,\n",
       " np.float64(0.05): 0.79,\n",
       " np.float64(0.06): 0.79,\n",
       " np.float64(0.07): 0.8,\n",
       " np.float64(0.08): 0.81,\n",
       " np.float64(0.09): 0.82,\n",
       " np.float64(0.1): 0.83,\n",
       " np.float64(0.11): 0.83,\n",
       " np.float64(0.12): 0.83,\n",
       " np.float64(0.13): 0.83,\n",
       " np.float64(0.14): 0.83,\n",
       " np.float64(0.15): 0.83,\n",
       " np.float64(0.16): 0.83,\n",
       " np.float64(0.17): 0.84,\n",
       " np.float64(0.18): 0.84,\n",
       " np.float64(0.19): 0.85,\n",
       " np.float64(0.2): 0.85,\n",
       " np.float64(0.21): 0.86,\n",
       " np.float64(0.22): 0.86,\n",
       " np.float64(0.23): 0.86,\n",
       " np.float64(0.24): 0.86,\n",
       " np.float64(0.25): 0.86,\n",
       " np.float64(0.26): 0.86,\n",
       " np.float64(0.27): 0.87,\n",
       " np.float64(0.28): 0.87,\n",
       " np.float64(0.29): 0.87,\n",
       " np.float64(0.3): 0.88,\n",
       " np.float64(0.31): 0.88,\n",
       " np.float64(0.32): 0.88,\n",
       " np.float64(0.33): 0.88,\n",
       " np.float64(0.34): 0.88,\n",
       " np.float64(0.35000000000000003): 0.88,\n",
       " np.float64(0.36): 0.88,\n",
       " np.float64(0.37): 0.88,\n",
       " np.float64(0.38): 0.87,\n",
       " np.float64(0.39): 0.87,\n",
       " np.float64(0.4): 0.87,\n",
       " np.float64(0.41000000000000003): 0.86,\n",
       " np.float64(0.42): 0.86,\n",
       " np.float64(0.43): 0.85,\n",
       " np.float64(0.44): 0.85,\n",
       " np.float64(0.45): 0.85,\n",
       " np.float64(0.46): 0.85,\n",
       " np.float64(0.47000000000000003): 0.86,\n",
       " np.float64(0.48): 0.86,\n",
       " np.float64(0.49): 0.85,\n",
       " np.float64(0.5): 0.85,\n",
       " np.float64(0.51): 0.85,\n",
       " np.float64(0.52): 0.85,\n",
       " np.float64(0.53): 0.86,\n",
       " np.float64(0.54): 0.85,\n",
       " np.float64(0.55): 0.85,\n",
       " np.float64(0.56): 0.84,\n",
       " np.float64(0.5700000000000001): 0.84,\n",
       " np.float64(0.58): 0.84,\n",
       " np.float64(0.59): 0.84,\n",
       " np.float64(0.6): 0.85,\n",
       " np.float64(0.61): 0.85,\n",
       " np.float64(0.62): 0.85,\n",
       " np.float64(0.63): 0.84,\n",
       " np.float64(0.64): 0.84,\n",
       " np.float64(0.65): 0.84,\n",
       " np.float64(0.66): 0.83,\n",
       " np.float64(0.67): 0.83,\n",
       " np.float64(0.68): 0.83,\n",
       " np.float64(0.6900000000000001): 0.83,\n",
       " np.float64(0.7000000000000001): 0.83,\n",
       " np.float64(0.71): 0.82,\n",
       " np.float64(0.72): 0.82,\n",
       " np.float64(0.73): 0.82,\n",
       " np.float64(0.74): 0.81,\n",
       " np.float64(0.75): 0.81,\n",
       " np.float64(0.76): 0.8,\n",
       " np.float64(0.77): 0.8,\n",
       " np.float64(0.78): 0.8,\n",
       " np.float64(0.79): 0.79,\n",
       " np.float64(0.8): 0.79,\n",
       " np.float64(0.81): 0.78,\n",
       " np.float64(0.8200000000000001): 0.78,\n",
       " np.float64(0.8300000000000001): 0.77,\n",
       " np.float64(0.84): 0.77,\n",
       " np.float64(0.85): 0.76,\n",
       " np.float64(0.86): 0.75,\n",
       " np.float64(0.87): 0.74,\n",
       " np.float64(0.88): 0.72,\n",
       " np.float64(0.89): 0.71,\n",
       " np.float64(0.9): 0.7,\n",
       " np.float64(0.91): 0.68,\n",
       " np.float64(0.92): 0.67,\n",
       " np.float64(0.93): 0.66,\n",
       " np.float64(0.9400000000000001): 0.64,\n",
       " np.float64(0.9500000000000001): 0.58,\n",
       " np.float64(0.96): 0.57,\n",
       " np.float64(0.97): 0.54,\n",
       " np.float64(0.98): 0.48,\n",
       " np.float64(0.99): 0.37,\n",
       " np.float64(1.0): 0}"
      ]
     },
     "execution_count": 192,
     "metadata": {},
     "output_type": "execute_result"
    }
   ],
   "source": [
    "# calculating f1\n",
    "f1_scores={}\n",
    "for t in thresholds:\n",
    "    y_decision_val=y_pred_prob>=t\n",
    "    precision= precision_score(y_val,y_decision_val,zero_division=0)\n",
    "    recall=recall_score(y_val,y_decision_val)\n",
    "    if precision + recall == 0:\n",
    "        f1 = 0\n",
    "    else:\n",
    "        f1 = 2 * (precision * recall) / (precision + recall)\n",
    "\n",
    "    f1_scores[t]=round(f1,2)\n",
    "f1_scores\n"
   ]
  },
  {
   "cell_type": "markdown",
   "id": "989d4bdd",
   "metadata": {},
   "source": []
  },
  {
   "cell_type": "code",
   "execution_count": 193,
   "id": "15952fc4",
   "metadata": {
    "ExecuteTime": {
     "end_time": "2025-10-23T02:09:12.442392Z",
     "start_time": "2025-10-23T02:09:12.433814Z"
    }
   },
   "outputs": [
    {
     "name": "stdout",
     "output_type": "stream",
     "text": [
      "[[102  28]\n",
      " [ 13 150]]\n"
     ]
    }
   ],
   "source": [
    "from sklearn.metrics import confusion_matrix\n",
    "\n",
    "y_decision_val = y_pred_prob >= 0.34\n",
    "cm = confusion_matrix(y_val, y_decision_val)\n",
    "print(cm)\n"
   ]
  },
  {
   "cell_type": "markdown",
   "id": "8992024e",
   "metadata": {},
   "source": [
    "## Question 5: 5-Fold CV\n",
    "Use the KFold class from Scikit-Learn to evaluate our model on 5 different folds:\n",
    "\n",
    "KFold(n_splits=5, shuffle=True, random_state=1)\n",
    "Iterate over different folds of df_full_train\n",
    "Split the data into train and validation\n",
    "Train the model on train with these parameters: LogisticRegression(solver='liblinear', C=1.0, max_iter=1000)\n",
    "Use AUC to evaluate the model on validation\n",
    "How large is standard deviation of the scores across different folds?\n",
    "\n",
    "0.0001\n",
    "0.006\n",
    "0.06\n",
    "0.36Question 5: 5-Fold CV\n",
    "Use the KFold class from Scikit-Learn to evaluate our model on 5 different folds:\n",
    "\n",
    "KFold(n_splits=5, shuffle=True, random_state=1)\n",
    "Iterate over different folds of df_full_train\n",
    "Split the data into train and validation\n",
    "Train the model on train with these parameters: LogisticRegression(solver='liblinear', C=1.0, max_iter=1000)\n",
    "Use AUC to evaluate the model on validation\n",
    "How large is standard deviation of the scores across different folds?\n",
    "\n",
    "0.0001\n",
    "0.006\n",
    "0.06\n",
    "0.36"
   ]
  },
  {
   "cell_type": "markdown",
   "id": "e9b96c33",
   "metadata": {},
   "source": [
    "### Applying Cross Validation"
   ]
  },
  {
   "cell_type": "code",
   "execution_count": 194,
   "id": "56b33333",
   "metadata": {
    "ExecuteTime": {
     "end_time": "2025-10-23T02:09:12.606909Z",
     "start_time": "2025-10-23T02:09:12.445406Z"
    }
   },
   "outputs": [],
   "source": [
    "def train_model(df_train,y_train,C=1.0):\n",
    "    train_dict=df_train[categorical+numerical].to_dict(orient='records')\n",
    "    dv=DictVectorizer(sparse=False)\n",
    "    x_train=dv.fit_transform(train_dict)\n",
    "    scaler= StandardScaler()\n",
    "    x_train=scaler.fit_transform(x_train)\n",
    "    model=LogisticRegression(C=C, class_weight='balanced',max_iter=1000)\n",
    "    model.fit(x_train,y_train)\n",
    "    return dv, model\n",
    "    "
   ]
  },
  {
   "cell_type": "code",
   "execution_count": 195,
   "id": "45c6f96b",
   "metadata": {
    "ExecuteTime": {
     "end_time": "2025-10-23T02:09:12.792567Z",
     "start_time": "2025-10-23T02:09:12.653842Z"
    }
   },
   "outputs": [],
   "source": [
    "dv,model=train_model(df_train,y_train,C=1.0)"
   ]
  },
  {
   "cell_type": "code",
   "execution_count": 196,
   "id": "df8bb145",
   "metadata": {
    "ExecuteTime": {
     "end_time": "2025-10-23T02:09:12.907012Z",
     "start_time": "2025-10-23T02:09:12.895597Z"
    }
   },
   "outputs": [],
   "source": [
    "def predict(df,dv,model,scaler):\n",
    "    df_dict=df[categorical+numerical].to_dict(orient='records')\n",
    "    x=dv.transform(df_dict)\n",
    "    x=scaler.transform(x)\n",
    "    y_pred=model.predict_proba(x)[:,1]\n",
    "    return y_pred"
   ]
  },
  {
   "cell_type": "code",
   "execution_count": 197,
   "id": "1ac9fbad",
   "metadata": {
    "ExecuteTime": {
     "end_time": "2025-10-23T02:09:13.151773Z",
     "start_time": "2025-10-23T02:09:13.124345Z"
    }
   },
   "outputs": [],
   "source": [
    "y_pred=predict(df_val,dv,model,scaler)"
   ]
  },
  {
   "cell_type": "code",
   "execution_count": 198,
   "id": "96fefc3b",
   "metadata": {
    "ExecuteTime": {
     "end_time": "2025-10-23T02:09:13.364629Z",
     "start_time": "2025-10-23T02:09:13.356604Z"
    }
   },
   "outputs": [],
   "source": [
    "from sklearn.model_selection import KFold\n",
    "kfold=KFold(n_splits=5, shuffle=True, random_state=42)"
   ]
  },
  {
   "cell_type": "code",
   "execution_count": 199,
   "id": "d33a1f9c",
   "metadata": {
    "ExecuteTime": {
     "end_time": "2025-10-23T02:09:13.592337Z",
     "start_time": "2025-10-23T02:09:13.579264Z"
    }
   },
   "outputs": [
    {
     "ename": "SyntaxError",
     "evalue": "invalid decimal literal (680352623.py, line 18)",
     "output_type": "error",
     "traceback": [
      "\u001b[1;36m  Cell \u001b[1;32mIn[199], line 18\u001b[1;36m\u001b[0m\n\u001b[1;33m    print(f'standard deviation:{np.std(scores).4f}')\u001b[0m\n\u001b[1;37m                    ^\u001b[0m\n\u001b[1;31mSyntaxError\u001b[0m\u001b[1;31m:\u001b[0m invalid decimal literal\n"
     ]
    }
   ],
   "source": [
    "scores=[]\n",
    "for train_idx,val_idx in kfold.split(df_fulltrain):\n",
    "    df_train=df_fulltrain.iloc[train_idx]\n",
    "    df_val=df_fulltrain.iloc[val_idx]\n",
    "    y_train=df_train.converted.values\n",
    "    y_val=df_val.converted.values\n",
    "    \n",
    "    del df_train['converted']\n",
    "    del df_val['converted']\n",
    "    \n",
    "    dv,model=train_model(df_train,y_train,C=1.0)\n",
    "    \n",
    "    y_pred=predict(df_val,dv,model,scaler)\n",
    "    \n",
    "    auc=roc_auc_score(y_val,y_pred)\n",
    "    scores.append(auc)\n",
    "print(f'mean:{np.mean(scores):.4f}')    \n",
    "print(f'standard deviation:{np.std(scores).4f}')    \n",
    "scores"
   ]
  },
  {
   "cell_type": "markdown",
   "id": "81216a44",
   "metadata": {},
   "source": [
    "## Question 6: Hyperparameter Tuning\n",
    "Now let's use 5-Fold cross-validation to find the best parameter C\n",
    "\n",
    "Iterate over the following C values: [0.000001, 0.001, 1]\n",
    "Initialize KFold with the same parameters as previously\n",
    "Use these parameters for the model: LogisticRegression(solver='liblinear', C=C, max_iter=1000)\n",
    "Compute the mean score as well as the std (round the mean and std to 3 decimal digits)\n",
    "Which C leads to the best mean score?\n",
    "\n",
    "0.000001\n",
    "0.001\n",
    "1"
   ]
  },
  {
   "cell_type": "code",
   "execution_count": 200,
   "id": "7f819788",
   "metadata": {
    "ExecuteTime": {
     "end_time": "2025-10-23T02:09:15.806331Z",
     "start_time": "2025-10-23T02:09:14.046664Z"
    }
   },
   "outputs": [
    {
     "data": {
      "text/plain": [
       "{1e-06: np.float64(0.92),\n",
       " 1e-05: np.float64(0.92),\n",
       " 0.0001: np.float64(0.92),\n",
       " 0.001: np.float64(0.92),\n",
       " 0.01: np.float64(0.93),\n",
       " 1: np.float64(0.93)}"
      ]
     },
     "execution_count": 200,
     "metadata": {},
     "output_type": "execute_result"
    }
   ],
   "source": [
    "c_values=[0.000001,0.00001,0.0001,0.001,0.01,1]\n",
    "results={}\n",
    "for C in c_values: \n",
    "    scores=[]\n",
    "    for train_idx,val_idx in kfold.split(df_fulltrain):\n",
    "        df_train=df_fulltrain.iloc[train_idx]\n",
    "        df_val=df_fulltrain.iloc[val_idx]\n",
    "        y_train=df_train.converted.values\n",
    "        y_val=df_val.converted.values\n",
    "    \n",
    "        del df_train['converted']\n",
    "        del df_val['converted']\n",
    "\n",
    "        dv,model=train_model(df_train,y_train,C=C)\n",
    "\n",
    "        y_pred=predict(df_val,dv,model,scaler)\n",
    "\n",
    "        auc=roc_auc_score(y_val,y_pred)\n",
    "        scores.append(auc)\n",
    "        results[C]=np.round(np.mean(scores),2)\n",
    "results\n",
    "        "
   ]
  },
  {
   "cell_type": "markdown",
   "id": "66942ddf",
   "metadata": {},
   "source": [
    "### Testing the model"
   ]
  },
  {
   "cell_type": "code",
   "execution_count": 201,
   "id": "bcb55b9a",
   "metadata": {
    "ExecuteTime": {
     "end_time": "2025-10-23T02:09:15.927075Z",
     "start_time": "2025-10-23T02:09:15.809821Z"
    }
   },
   "outputs": [
    {
     "data": {
      "text/plain": [
       "0.8859236002093145"
      ]
     },
     "execution_count": 201,
     "metadata": {},
     "output_type": "execute_result"
    }
   ],
   "source": [
    "dv,model=train_model(df_fulltrain,df_fulltrain.converted,C=1.0)\n",
    "y_pred=predict(df_test,dv,model,scaler)\n",
    "auc=roc_auc_score(y_test,y_pred)\n",
    "auc"
   ]
  },
  {
   "cell_type": "code",
   "execution_count": null,
   "id": "8db4f3f2",
   "metadata": {},
   "outputs": [],
   "source": []
  },
  {
   "cell_type": "code",
   "execution_count": null,
   "id": "daea3ae9",
   "metadata": {},
   "outputs": [],
   "source": []
  }
 ],
 "metadata": {
  "kernelspec": {
   "display_name": "Python 3 (ipykernel)",
   "language": "python",
   "name": "python3"
  },
  "language_info": {
   "codemirror_mode": {
    "name": "ipython",
    "version": 3
   },
   "file_extension": ".py",
   "mimetype": "text/x-python",
   "name": "python",
   "nbconvert_exporter": "python",
   "pygments_lexer": "ipython3",
   "version": "3.11.13"
  },
  "toc": {
   "base_numbering": 1,
   "nav_menu": {},
   "number_sections": true,
   "sideBar": true,
   "skip_h1_title": false,
   "title_cell": "Table of Contents",
   "title_sidebar": "Contents",
   "toc_cell": false,
   "toc_position": {},
   "toc_section_display": true,
   "toc_window_display": false
  }
 },
 "nbformat": 4,
 "nbformat_minor": 5
}
