{
 "cells": [
  {
   "cell_type": "markdown",
   "id": "7a9d8f38-2c2c-4182-832c-b9396c1d6177",
   "metadata": {},
   "source": [
    "# ML ZOOMCAMP   ASSIGNMENT 1"
   ]
  },
  {
   "cell_type": "code",
   "execution_count": 101,
   "id": "29841461-36de-469c-ad99-ee6465ebbca8",
   "metadata": {},
   "outputs": [
    {
     "data": {
      "text/html": [
       "<div>\n",
       "<style scoped>\n",
       "    .dataframe tbody tr th:only-of-type {\n",
       "        vertical-align: middle;\n",
       "    }\n",
       "\n",
       "    .dataframe tbody tr th {\n",
       "        vertical-align: top;\n",
       "    }\n",
       "\n",
       "    .dataframe thead th {\n",
       "        text-align: right;\n",
       "    }\n",
       "</style>\n",
       "<table border=\"1\" class=\"dataframe\">\n",
       "  <thead>\n",
       "    <tr style=\"text-align: right;\">\n",
       "      <th></th>\n",
       "      <th>engine_displacement</th>\n",
       "      <th>num_cylinders</th>\n",
       "      <th>horsepower</th>\n",
       "      <th>vehicle_weight</th>\n",
       "      <th>acceleration</th>\n",
       "      <th>model_year</th>\n",
       "      <th>origin</th>\n",
       "      <th>fuel_type</th>\n",
       "      <th>drivetrain</th>\n",
       "      <th>num_doors</th>\n",
       "      <th>fuel_efficiency_mpg</th>\n",
       "    </tr>\n",
       "  </thead>\n",
       "  <tbody>\n",
       "    <tr>\n",
       "      <th>0</th>\n",
       "      <td>170</td>\n",
       "      <td>3.0</td>\n",
       "      <td>159.0</td>\n",
       "      <td>3413.433759</td>\n",
       "      <td>17.7</td>\n",
       "      <td>2003</td>\n",
       "      <td>Europe</td>\n",
       "      <td>Gasoline</td>\n",
       "      <td>All-wheel drive</td>\n",
       "      <td>0.0</td>\n",
       "      <td>13.231729</td>\n",
       "    </tr>\n",
       "    <tr>\n",
       "      <th>1</th>\n",
       "      <td>130</td>\n",
       "      <td>5.0</td>\n",
       "      <td>97.0</td>\n",
       "      <td>3149.664934</td>\n",
       "      <td>17.8</td>\n",
       "      <td>2007</td>\n",
       "      <td>USA</td>\n",
       "      <td>Gasoline</td>\n",
       "      <td>Front-wheel drive</td>\n",
       "      <td>0.0</td>\n",
       "      <td>13.688217</td>\n",
       "    </tr>\n",
       "    <tr>\n",
       "      <th>2</th>\n",
       "      <td>170</td>\n",
       "      <td>NaN</td>\n",
       "      <td>78.0</td>\n",
       "      <td>3079.038997</td>\n",
       "      <td>15.1</td>\n",
       "      <td>2018</td>\n",
       "      <td>Europe</td>\n",
       "      <td>Gasoline</td>\n",
       "      <td>Front-wheel drive</td>\n",
       "      <td>0.0</td>\n",
       "      <td>14.246341</td>\n",
       "    </tr>\n",
       "    <tr>\n",
       "      <th>3</th>\n",
       "      <td>220</td>\n",
       "      <td>4.0</td>\n",
       "      <td>NaN</td>\n",
       "      <td>2542.392402</td>\n",
       "      <td>20.2</td>\n",
       "      <td>2009</td>\n",
       "      <td>USA</td>\n",
       "      <td>Diesel</td>\n",
       "      <td>All-wheel drive</td>\n",
       "      <td>2.0</td>\n",
       "      <td>16.912736</td>\n",
       "    </tr>\n",
       "    <tr>\n",
       "      <th>4</th>\n",
       "      <td>210</td>\n",
       "      <td>1.0</td>\n",
       "      <td>140.0</td>\n",
       "      <td>3460.870990</td>\n",
       "      <td>14.4</td>\n",
       "      <td>2009</td>\n",
       "      <td>Europe</td>\n",
       "      <td>Gasoline</td>\n",
       "      <td>All-wheel drive</td>\n",
       "      <td>2.0</td>\n",
       "      <td>12.488369</td>\n",
       "    </tr>\n",
       "  </tbody>\n",
       "</table>\n",
       "</div>"
      ],
      "text/plain": [
       "   engine_displacement  num_cylinders  horsepower  vehicle_weight  \\\n",
       "0                  170            3.0       159.0     3413.433759   \n",
       "1                  130            5.0        97.0     3149.664934   \n",
       "2                  170            NaN        78.0     3079.038997   \n",
       "3                  220            4.0         NaN     2542.392402   \n",
       "4                  210            1.0       140.0     3460.870990   \n",
       "\n",
       "   acceleration  model_year  origin fuel_type         drivetrain  num_doors  \\\n",
       "0          17.7        2003  Europe  Gasoline    All-wheel drive        0.0   \n",
       "1          17.8        2007     USA  Gasoline  Front-wheel drive        0.0   \n",
       "2          15.1        2018  Europe  Gasoline  Front-wheel drive        0.0   \n",
       "3          20.2        2009     USA    Diesel    All-wheel drive        2.0   \n",
       "4          14.4        2009  Europe  Gasoline    All-wheel drive        2.0   \n",
       "\n",
       "   fuel_efficiency_mpg  \n",
       "0            13.231729  \n",
       "1            13.688217  \n",
       "2            14.246341  \n",
       "3            16.912736  \n",
       "4            12.488369  "
      ]
     },
     "execution_count": 101,
     "metadata": {},
     "output_type": "execute_result"
    }
   ],
   "source": [
    "import numpy as np\n",
    "import pandas as pd\n",
    "df= pd.read_csv(\"https://raw.githubusercontent.com/alexeygrigorev/datasets/master/car_fuel_efficiency.csv\")\n",
    "df.head()\n"
   ]
  },
  {
   "cell_type": "markdown",
   "id": "fd0f0ec9-f1f6-4f93-9093-ee05fae5e7e2",
   "metadata": {},
   "source": [
    "# ml-zoomcamp homework 1\n",
    " Q1. Panda's version\n",
    " \n",
    " What's the version of panda that i installed?\n",
    "**Answer:** 2.3.2"
   ]
  },
  {
   "cell_type": "code",
   "execution_count": 13,
   "id": "3003ee4d-6227-4659-aaf8-211014c85f9c",
   "metadata": {},
   "outputs": [
    {
     "name": "stdout",
     "output_type": "stream",
     "text": [
      "2.3.2\n"
     ]
    }
   ],
   "source": [
    "# Q1. Code\n",
    "print(pd.__version__)\n",
    "\n"
   ]
  },
  {
   "cell_type": "markdown",
   "id": "6c53e3c9-1f44-42c8-8b34-9b250566ab1a",
   "metadata": {},
   "source": [
    "## Q2. Records Count\n",
    "How many records are in the folder?\n",
    "**Answer:** 9704"
   ]
  },
  {
   "cell_type": "code",
   "execution_count": 121,
   "id": "d397e7ba-34c2-4086-9fba-aad2c433ad5d",
   "metadata": {},
   "outputs": [
    {
     "data": {
      "text/plain": [
       "9704"
      ]
     },
     "execution_count": 121,
     "metadata": {},
     "output_type": "execute_result"
    }
   ],
   "source": [
    "# Q2. Code\n",
    "df.shape[0]\n"
   ]
  },
  {
   "cell_type": "markdown",
   "id": "07dd1963-b05b-4c2a-bdba-c825dff99381",
   "metadata": {},
   "source": [
    "# Q3. Fuel Types\n",
    "How many fuel types are presented in the data set?\n",
    "**Answer:** 4"
   ]
  },
  {
   "cell_type": "code",
   "execution_count": 33,
   "id": "7e94cbbc-2497-4714-b87c-25d1aa2d3e49",
   "metadata": {},
   "outputs": [
    {
     "name": "stdout",
     "output_type": "stream",
     "text": [
      "<bound method IndexOpsMixin.nunique of 0       Gasoline\n",
      "1       Gasoline\n",
      "2       Gasoline\n",
      "3         Diesel\n",
      "4       Gasoline\n",
      "          ...   \n",
      "9699      Diesel\n",
      "9700    Gasoline\n",
      "9701      Diesel\n",
      "9702      Diesel\n",
      "9703      Diesel\n",
      "Name: fuel_type, Length: 9704, dtype: object>\n"
     ]
    }
   ],
   "source": [
    "# Q3. Code\n",
    "print(df[\"fuel_type\"].nunique)"
   ]
  },
  {
   "cell_type": "markdown",
   "id": "f9e0f7a8-6882-47be-9ac1-2bfa34b4738d",
   "metadata": {},
   "source": [
    "## Q4. Missing values \n",
    "How many columns in the dataset have missing values?\n",
    "**Answer:**  4"
   ]
  },
  {
   "cell_type": "code",
   "execution_count": 122,
   "id": "f54f8c77-568b-45bf-ab31-0145a8efa49f",
   "metadata": {},
   "outputs": [
    {
     "name": "stdout",
     "output_type": "stream",
     "text": [
      "4\n"
     ]
    }
   ],
   "source": [
    "# Q4 code\n",
    "\n",
    "print(len(df.columns[df.isnull().sum()>0]))"
   ]
  },
  {
   "cell_type": "markdown",
   "id": "92bb93ff-f8e0-4000-aabd-ffaf2b1222d4",
   "metadata": {},
   "source": [
    "## Q5. Max Fuel Efficiency\n",
    " What's the maximum fuel efficiency of cars from Asia?\n",
    " **Answer:** 23.75"
   ]
  },
  {
   "cell_type": "code",
   "execution_count": 120,
   "id": "18827700-6ba2-4117-b0d3-bedec39542af",
   "metadata": {},
   "outputs": [
    {
     "name": "stdout",
     "output_type": "stream",
     "text": [
      "23.759122836520497\n"
     ]
    }
   ],
   "source": [
    "# Q5. code\n",
    "print(df[df[\"origin\"]== \"Asia\"][\"fuel_efficiency_mpg\"].max())"
   ]
  },
  {
   "cell_type": "markdown",
   "id": "7d868481-8ccc-4bf8-a682-913e083e6174",
   "metadata": {},
   "source": [
    "## Q6. Median value of horsepower\n",
    "Find the median value of horsepower column in the dataset.\n",
    "**Answer:** 152\n",
    "Next, calculate the most frequent value of the same horsepower column.\n",
    "**Answer:** 152.0\n",
    "Use fillna method to fill the missing values in horsepower column with the most frequent value from the previous step.\n",
    "Now, calculate the median value of horsepower once again.\n",
    "**Answer:** 152.0\n",
    "Has it changed?\n",
    "**Answer:** no\n",
    "\n"
   ]
  },
  {
   "cell_type": "code",
   "execution_count": 95,
   "id": "16c90d69-424f-4a09-8f55-a555d17ec515",
   "metadata": {},
   "outputs": [
    {
     "name": "stdout",
     "output_type": "stream",
     "text": [
      "152.0\n",
      "152.0\n",
      "152.0\n"
     ]
    }
   ],
   "source": [
    "# Q6. Code\n",
    "print(df[\"horsepower\"].median())\n",
    "most_frequent= df[\"horsepower\"].mode()[0]\n",
    "print(most_frequent)\n",
    "df[\"horsepower\"]= df[\"horsepower\"].fillna(most_frequent)\n",
    "print(df[\"horsepower\"].median())\n"
   ]
  },
  {
   "cell_type": "markdown",
   "id": "0ba7c37f-0afe-4a6a-a600-9d60c5f25194",
   "metadata": {},
   "source": [
    "## Q7. Sum of weights\n",
    "Select all the cars from Asia\n",
    "Select only columns vehicle_weight and model_year\n",
    "Select the first 7 values\n",
    "Get the underlying NumPy array. Let's call it X.\n",
    "Compute matrix-matrix multiplication between the transpose of X and X. To get the transpose, use X.T. Let's call the result XTX.\n",
    "Invert XTX.\n",
    "Create an array y with values [1100, 1300, 800, 900, 1000, 1100, 1200].\n",
    "Multiply the inverse of XTX with the transpose of X, and then multiply the result by y. Call the result w.\n",
    "What's the sum of all the elements of the result?\n",
    "Note: You just implemented linear regression. We'll talk about it in the next lesson.\n",
    "\n",
    "0.051\n",
    "0.51\n",
    "5.1\n",
    "51\n",
    "**Answer:** 0.51"
   ]
  },
  {
   "cell_type": "code",
   "execution_count": 118,
   "id": "13f96f82-bccc-47b5-ab24-c0947beb0c14",
   "metadata": {},
   "outputs": [
    {
     "name": "stdout",
     "output_type": "stream",
     "text": [
      "      engine_displacement  num_cylinders  horsepower  vehicle_weight  \\\n",
      "8                     250            1.0       174.0     2714.219310   \n",
      "12                    320            5.0       145.0     2783.868974   \n",
      "14                    200            6.0       160.0     3582.687368   \n",
      "20                    150            3.0       197.0     2231.808142   \n",
      "21                    160            4.0       133.0     2659.431451   \n",
      "...                   ...            ...         ...             ...   \n",
      "9688                  260            4.0         NaN     3948.404625   \n",
      "9692                  180            3.0       188.0     3680.341381   \n",
      "9693                  280            2.0       148.0     2545.070139   \n",
      "9698                  180            1.0       131.0     3107.427820   \n",
      "9703                  270            3.0       140.0     2908.043477   \n",
      "\n",
      "      acceleration  model_year origin fuel_type         drivetrain  num_doors  \\\n",
      "8             10.3        2016   Asia    Diesel  Front-wheel drive       -1.0   \n",
      "12            15.1        2010   Asia    Diesel    All-wheel drive        1.0   \n",
      "14            14.9        2007   Asia    Diesel    All-wheel drive        0.0   \n",
      "20            18.7        2011   Asia  Gasoline  Front-wheel drive        1.0   \n",
      "21             NaN        2016   Asia  Gasoline  Front-wheel drive       -1.0   \n",
      "...            ...         ...    ...       ...                ...        ...   \n",
      "9688          15.5        2018   Asia    Diesel    All-wheel drive       -1.0   \n",
      "9692          18.0        2016   Asia  Gasoline  Front-wheel drive        1.0   \n",
      "9693          15.6        2012   Asia    Diesel    All-wheel drive        0.0   \n",
      "9698          13.2        2005   Asia  Gasoline  Front-wheel drive       -2.0   \n",
      "9703          14.7        2005   Asia    Diesel    All-wheel drive       -1.0   \n",
      "\n",
      "      fuel_efficiency_mpg  \n",
      "8               16.823554  \n",
      "12              16.175820  \n",
      "14              11.871091  \n",
      "20              18.889083  \n",
      "21              16.077730  \n",
      "...                   ...  \n",
      "9688            11.054830  \n",
      "9692            11.711653  \n",
      "9693            17.202782  \n",
      "9698            13.933716  \n",
      "9703            14.884467  \n",
      "\n",
      "[3247 rows x 11 columns]\n",
      "      vehicle_weight  model_year\n",
      "8        2714.219310        2016\n",
      "12       2783.868974        2010\n",
      "14       3582.687368        2007\n",
      "20       2231.808142        2011\n",
      "21       2659.431451        2016\n",
      "...              ...         ...\n",
      "9688     3948.404625        2018\n",
      "9692     3680.341381        2016\n",
      "9693     2545.070139        2012\n",
      "9698     3107.427820        2005\n",
      "9703     2908.043477        2005\n",
      "\n",
      "[3247 rows x 2 columns]\n",
      "    vehicle_weight  model_year\n",
      "8      2714.219310        2016\n",
      "12     2783.868974        2010\n",
      "14     3582.687368        2007\n",
      "20     2231.808142        2011\n",
      "21     2659.431451        2016\n",
      "34     2844.227534        2014\n",
      "38     3761.994038        2019\n",
      "The sum is: 0.5187709081074007\n"
     ]
    }
   ],
   "source": [
    "#Q7. Code\n",
    "cars_asia=df[df[\"origin\"]== \"Asia\"]\n",
    "print(cars_asia)\n",
    "\n",
    "print(cars_asia[[\"vehicle_weight\",\"model_year\"]])\n",
    "print(cars_asia[[\"vehicle_weight\",\"model_year\"]].iloc[0:7])\n",
    "X= cars_asia[[\"vehicle_weight\",\"model_year\"]].iloc[0:7].to_numpy()\n",
    "XTX= X.T.dot(X)\n",
    "XTX_inv= np.linalg.inv(XTX)\n",
    "y=np.array([1100, 1300, 800, 900, 1000, 1100, 1200])\n",
    "w= XTX_inv @ X.T @ y\n",
    "print(\"The sum is:\", np.sum(w))"
   ]
  },
  {
   "cell_type": "markdown",
   "id": "3b2549c8-aa1a-4b90-8728-443ccba8e039",
   "metadata": {},
   "source": [
    "## Summary\n",
    "In this assignment, I explored basic data filtering, missing value detection, and implemented linear regression using NumPy. I learned how to align matrix shapes, invert matrices, and interpret model weights. This notebook demonstrates my ability to work with real-world datasets and apply foundational machine learning techniques.\n"
   ]
  }
 ],
 "metadata": {
  "kernelspec": {
   "display_name": "Python 3 (ipykernel)",
   "language": "python",
   "name": "python3"
  },
  "language_info": {
   "codemirror_mode": {
    "name": "ipython",
    "version": 3
   },
   "file_extension": ".py",
   "mimetype": "text/x-python",
   "name": "python",
   "nbconvert_exporter": "python",
   "pygments_lexer": "ipython3",
   "version": "3.11.13"
  }
 },
 "nbformat": 4,
 "nbformat_minor": 5
}
